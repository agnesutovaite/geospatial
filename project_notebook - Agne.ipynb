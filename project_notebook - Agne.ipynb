{
 "cells": [
  {
   "attachments": {},
   "cell_type": "markdown",
   "metadata": {},
   "source": [
    "# Association between Fertility & Local Municipal Characteristics in Denmark "
   ]
  },
  {
   "attachments": {},
   "cell_type": "markdown",
   "metadata": {},
   "source": [
    "### Imports"
   ]
  },
  {
   "cell_type": "code",
   "execution_count": 20,
   "metadata": {},
   "outputs": [],
   "source": [
    "import geopandas as gpd # for geospatial data handling\n",
    "import pandas as pd\n",
    "import contextily as cx # for plotting\n",
    "import matplotlib.pyplot as plt # for plotting\n",
    "from pyproj import CRS # for more advanced CRS modifications and transformations\n",
    "\n",
    "import warnings\n",
    "warnings.filterwarnings(\"ignore\", category=DeprecationWarning) \n",
    "warnings.filterwarnings(\"ignore\", category=FutureWarning) "
   ]
  },
  {
   "attachments": {},
   "cell_type": "markdown",
   "metadata": {},
   "source": [
    "### Data"
   ]
  },
  {
   "attachments": {},
   "cell_type": "markdown",
   "metadata": {},
   "source": [
    "Load the data from DenmarkStatistik and geometries for municipalities of Denmark and then merge them into one geo dataframe"
   ]
  },
  {
   "attachments": {},
   "cell_type": "markdown",
   "metadata": {},
   "source": [
    "'Data/Educational_attainment_by_highest_education_completed_(total)_2021.xlsx'\n"
   ]
  },
  {
   "cell_type": "code",
   "execution_count": 21,
   "metadata": {},
   "outputs": [],
   "source": [
    "data_edu = pd.read_excel('Data/Educational_attainment_by_highest_education_completed_(total)_2021.xlsx')\n",
    "data_fer = pd.read_excel('Data/fertility_rates_by_municipality_2021.xlsx')\n",
    "data_bir = pd.read_excel('Data/live_births_by_municipality_2021.xlsx')\n",
    "data_mar = pd.read_excel('Data/market_value_for_real_estate_average_dkk_2021.xlsx')"
   ]
  },
  {
   "cell_type": "code",
   "execution_count": 22,
   "metadata": {},
   "outputs": [],
   "source": [
    "geometries = gpd.read_file('Data/municipalities_dk.gpkg') #added\n",
    "# geometry.head()"
   ]
  },
  {
   "cell_type": "code",
   "execution_count": 23,
   "metadata": {},
   "outputs": [],
   "source": [
    "# rename the columns to prepare for merge\n",
    "data_edu.rename(columns = {'Unnamed: 0':'municipality_nm', 2021:'edu_att'}, inplace = True)\n",
    "data_fer.rename(columns = {'Unnamed: 0':'municipality_nm', 2021:'fer_rate'}, inplace = True)\n",
    "data_bir.rename(columns = {'Unnamed: 0':'municipality_nm', 2021:'live_birth'}, inplace = True)\n",
    "data_mar.rename(columns = {'Unnamed: 0':'municipality_nm', 2021:'market_val'}, inplace = True)"
   ]
  },
  {
   "cell_type": "code",
   "execution_count": 24,
   "metadata": {},
   "outputs": [],
   "source": [
    "# merge to one data frame\n",
    "data = pd.merge(pd.merge(data_fer, data_bir), pd.merge(data_edu, data_mar))\n",
    "# data.head()"
   ]
  },
  {
   "cell_type": "code",
   "execution_count": 25,
   "metadata": {},
   "outputs": [],
   "source": [
    "data['municipality_nm'] = data['municipality_nm'].replace('Copenhagen', 'København')\n",
    "geometries = geometries.rename(columns={'navn': 'municipality_nm'}) #added"
   ]
  },
  {
   "cell_type": "code",
   "execution_count": 37,
   "metadata": {},
   "outputs": [
    {
     "data": {
      "text/html": [
       "<div>\n",
       "<style scoped>\n",
       "    .dataframe tbody tr th:only-of-type {\n",
       "        vertical-align: middle;\n",
       "    }\n",
       "\n",
       "    .dataframe tbody tr th {\n",
       "        vertical-align: top;\n",
       "    }\n",
       "\n",
       "    .dataframe thead th {\n",
       "        text-align: right;\n",
       "    }\n",
       "</style>\n",
       "<table border=\"1\" class=\"dataframe\">\n",
       "  <thead>\n",
       "    <tr style=\"text-align: right;\">\n",
       "      <th></th>\n",
       "      <th>kommunekode</th>\n",
       "      <th>municipal_id</th>\n",
       "    </tr>\n",
       "  </thead>\n",
       "  <tbody>\n",
       "    <tr>\n",
       "      <th>0</th>\n",
       "      <td>0370</td>\n",
       "      <td>370</td>\n",
       "    </tr>\n",
       "    <tr>\n",
       "      <th>1</th>\n",
       "      <td>0330</td>\n",
       "      <td>330</td>\n",
       "    </tr>\n",
       "    <tr>\n",
       "      <th>2</th>\n",
       "      <td>0766</td>\n",
       "      <td>766</td>\n",
       "    </tr>\n",
       "    <tr>\n",
       "      <th>3</th>\n",
       "      <td>0510</td>\n",
       "      <td>510</td>\n",
       "    </tr>\n",
       "    <tr>\n",
       "      <th>4</th>\n",
       "      <td>0550</td>\n",
       "      <td>550</td>\n",
       "    </tr>\n",
       "    <tr>\n",
       "      <th>...</th>\n",
       "      <td>...</td>\n",
       "      <td>...</td>\n",
       "    </tr>\n",
       "    <tr>\n",
       "      <th>94</th>\n",
       "      <td>0851</td>\n",
       "      <td>851</td>\n",
       "    </tr>\n",
       "    <tr>\n",
       "      <th>95</th>\n",
       "      <td>0825</td>\n",
       "      <td>825</td>\n",
       "    </tr>\n",
       "    <tr>\n",
       "      <th>96</th>\n",
       "      <td>0411</td>\n",
       "      <td>411</td>\n",
       "    </tr>\n",
       "    <tr>\n",
       "      <th>97</th>\n",
       "      <td>0779</td>\n",
       "      <td>779</td>\n",
       "    </tr>\n",
       "    <tr>\n",
       "      <th>98</th>\n",
       "      <td>0390</td>\n",
       "      <td>390</td>\n",
       "    </tr>\n",
       "  </tbody>\n",
       "</table>\n",
       "<p>99 rows × 2 columns</p>\n",
       "</div>"
      ],
      "text/plain": [
       "   kommunekode  municipal_id\n",
       "0         0370           370\n",
       "1         0330           330\n",
       "2         0766           766\n",
       "3         0510           510\n",
       "4         0550           550\n",
       "..         ...           ...\n",
       "94        0851           851\n",
       "95        0825           825\n",
       "96        0411           411\n",
       "97        0779           779\n",
       "98        0390           390\n",
       "\n",
       "[99 rows x 2 columns]"
      ]
     },
     "execution_count": 37,
     "metadata": {},
     "output_type": "execute_result"
    }
   ],
   "source": []
  },
  {
   "cell_type": "code",
   "execution_count": 38,
   "metadata": {},
   "outputs": [],
   "source": [
    "data = pd.merge(data, geometries[['municipality_nm', 'kommunekode', 'municipal_id']]) #added"
   ]
  },
  {
   "cell_type": "code",
   "execution_count": 39,
   "metadata": {},
   "outputs": [],
   "source": [
    "gdf = gpd.GeoDataFrame(data, geometry=geometries.geometry, crs = 'EPSG:25832') #added"
   ]
  },
  {
   "attachments": {},
   "cell_type": "markdown",
   "metadata": {},
   "source": [
    "## Inspecting spatial data and EDA"
   ]
  },
  {
   "attachments": {},
   "cell_type": "markdown",
   "metadata": {},
   "source": [
    "## Spatial Weights"
   ]
  },
  {
   "cell_type": "code",
   "execution_count": 31,
   "metadata": {},
   "outputs": [],
   "source": [
    "import seaborn as sns\n",
    "sns.set_theme()\n",
    "from pysal.lib import weights\n",
    "from libpysal.io import open as psopen\n",
    "import numpy as np\n",
    "import matplotlib.pyplot as plt\n",
    "from splot.libpysal import plot_spatial_weights"
   ]
  },
  {
   "cell_type": "code",
   "execution_count": 35,
   "metadata": {},
   "outputs": [
    {
     "data": {
      "text/plain": [
       "<bound method DataFrame.info of     municipality_nm fer_rate live_birth  edu_att market_val  \\\n",
       "0         København  1 563.9     10 285  501 212  2 399 736   \n",
       "1     Frederiksberg  1 787.8      1 534   74 788  3 435 510   \n",
       "2            Dragør  2 510.9        146    9 074  4 014 690   \n",
       "3            Tårnby  2 056.7        473   28 727  2 823 345   \n",
       "4       Albertslund  1 608.7        274   18 664  2 931 561   \n",
       "..              ...      ...        ...      ...        ...   \n",
       "93            Morsø  2 080.7        180   13 103  1 321 820   \n",
       "94           Rebild  2 400.5        380   20 166  1 997 252   \n",
       "95          Thisted  2 063.8        410   28 630  1 422 277   \n",
       "96  Vesthimmerlands  1 824.4        314   24 005  1 495 512   \n",
       "97          Aalborg  1 604.3      2 488  158 831  2 042 461   \n",
       "\n",
       "                                             geometry  \n",
       "0   MULTIPOLYGON (((672902.450 6143708.870, 672880...  \n",
       "1   MULTIPOLYGON (((654675.250 6154223.210, 654636...  \n",
       "2   MULTIPOLYGON (((563379.450 6175110.360, 563346...  \n",
       "3   MULTIPOLYGON (((516449.610 6137370.130, 516423...  \n",
       "4   MULTIPOLYGON (((482562.400 6122027.620, 482507...  \n",
       "..                                                ...  \n",
       "93  MULTIPOLYGON (((715836.620 6199961.320, 715836...  \n",
       "94  MULTIPOLYGON (((557400.690 6323373.320, 557399...  \n",
       "95  MULTIPOLYGON (((615696.720 6346079.540, 615701...  \n",
       "96  MULTIPOLYGON (((892505.010 6148273.680, 892505...  \n",
       "97  MULTIPOLYGON (((501784.090 6297109.260, 501784...  \n",
       "\n",
       "[98 rows x 6 columns]>"
      ]
     },
     "execution_count": 35,
     "metadata": {},
     "output_type": "execute_result"
    }
   ],
   "source": [
    "gdf.info"
   ]
  },
  {
   "cell_type": "code",
   "execution_count": 32,
   "metadata": {},
   "outputs": [
    {
     "ename": "ValueError",
     "evalue": "The argument to the ids parameter contains duplicate entries.",
     "output_type": "error",
     "traceback": [
      "\u001b[1;31m---------------------------------------------------------------------------\u001b[0m",
      "\u001b[1;31mValueError\u001b[0m                                Traceback (most recent call last)",
      "Cell \u001b[1;32mIn[32], line 1\u001b[0m\n\u001b[1;32m----> 1\u001b[0m w_queen \u001b[39m=\u001b[39m weights\u001b[39m.\u001b[39;49mQueen\u001b[39m.\u001b[39;49mfrom_dataframe(gdf, idVariable\u001b[39m=\u001b[39;49m\u001b[39m\"\u001b[39;49m\u001b[39mfer_rate\u001b[39;49m\u001b[39m\"\u001b[39;49m)\n",
      "File \u001b[1;32mc:\\Users\\sutov\\anaconda3\\envs\\gds_py\\lib\\site-packages\\libpysal\\weights\\contiguity.py:410\u001b[0m, in \u001b[0;36mQueen.from_dataframe\u001b[1;34m(cls, df, geom_col, **kwargs)\u001b[0m\n\u001b[0;32m    408\u001b[0m \u001b[39melif\u001b[39;00m \u001b[39misinstance\u001b[39m(ids, \u001b[39mstr\u001b[39m):\n\u001b[0;32m    409\u001b[0m     ids \u001b[39m=\u001b[39m df\u001b[39m.\u001b[39mget(ids)\u001b[39m.\u001b[39mtolist()\n\u001b[1;32m--> 410\u001b[0m w \u001b[39m=\u001b[39m \u001b[39mcls\u001b[39m\u001b[39m.\u001b[39mfrom_iterable(\n\u001b[0;32m    411\u001b[0m     df[geom_col]\u001b[39m.\u001b[39mtolist(), ids\u001b[39m=\u001b[39mids, id_order\u001b[39m=\u001b[39mid_order, \u001b[39m*\u001b[39m\u001b[39m*\u001b[39mkwargs\n\u001b[0;32m    412\u001b[0m )\n\u001b[0;32m    413\u001b[0m \u001b[39mreturn\u001b[39;00m w\n",
      "File \u001b[1;32mc:\\Users\\sutov\\anaconda3\\envs\\gds_py\\lib\\site-packages\\libpysal\\weights\\contiguity.py:355\u001b[0m, in \u001b[0;36mQueen.from_iterable\u001b[1;34m(cls, iterable, sparse, **kwargs)\u001b[0m\n\u001b[0;32m    338\u001b[0m \u001b[39m\u001b[39m\u001b[39m\"\"\"\u001b[39;00m\n\u001b[0;32m    339\u001b[0m \u001b[39mConstruct a weights object from a collection of arbitrary polygons. This\u001b[39;00m\n\u001b[0;32m    340\u001b[0m \u001b[39mwill cast the polygons to PySAL polygons, then build the W.\u001b[39;00m\n\u001b[1;32m   (...)\u001b[0m\n\u001b[0;32m    352\u001b[0m \u001b[39m:class:`libpysal.weights.contiguiyt.Queen`\u001b[39;00m\n\u001b[0;32m    353\u001b[0m \u001b[39m\"\"\"\u001b[39;00m\n\u001b[0;32m    354\u001b[0m new_iterable \u001b[39m=\u001b[39m \u001b[39miter\u001b[39m(iterable)\n\u001b[1;32m--> 355\u001b[0m w \u001b[39m=\u001b[39m \u001b[39mcls\u001b[39m(new_iterable, \u001b[39m*\u001b[39m\u001b[39m*\u001b[39mkwargs)\n\u001b[0;32m    356\u001b[0m \u001b[39mif\u001b[39;00m sparse:\n\u001b[0;32m    357\u001b[0m     w \u001b[39m=\u001b[39m WSP\u001b[39m.\u001b[39mfrom_W(w)\n",
      "File \u001b[1;32mc:\\Users\\sutov\\anaconda3\\envs\\gds_py\\lib\\site-packages\\libpysal\\weights\\contiguity.py:276\u001b[0m, in \u001b[0;36mQueen.__init__\u001b[1;34m(self, polygons, **kw)\u001b[0m\n\u001b[0;32m    274\u001b[0m     polygons, vertices \u001b[39m=\u001b[39m voronoi_frames(get_points_array(polygons))\n\u001b[0;32m    275\u001b[0m     polygons \u001b[39m=\u001b[39m \u001b[39mlist\u001b[39m(polygons\u001b[39m.\u001b[39mgeometry)\n\u001b[1;32m--> 276\u001b[0m neighbors, ids \u001b[39m=\u001b[39m _build(polygons, criterion\u001b[39m=\u001b[39;49mcriterion, ids\u001b[39m=\u001b[39;49mids)\n\u001b[0;32m    277\u001b[0m W\u001b[39m.\u001b[39m\u001b[39m__init__\u001b[39m(\u001b[39mself\u001b[39m, neighbors, ids\u001b[39m=\u001b[39mids, \u001b[39m*\u001b[39m\u001b[39m*\u001b[39mkw)\n",
      "File \u001b[1;32mc:\\Users\\sutov\\anaconda3\\envs\\gds_py\\lib\\site-packages\\libpysal\\weights\\contiguity.py:587\u001b[0m, in \u001b[0;36m_build\u001b[1;34m(polygons, criterion, ids)\u001b[0m\n\u001b[0;32m    563\u001b[0m \u001b[39m\u001b[39m\u001b[39m\"\"\"\u001b[39;00m\n\u001b[0;32m    564\u001b[0m \u001b[39mThis is a developer-facing function to construct a spatial weights object. \u001b[39;00m\n\u001b[0;32m    565\u001b[0m \n\u001b[1;32m   (...)\u001b[0m\n\u001b[0;32m    584\u001b[0m \u001b[39m      object, not the object itself. \u001b[39;00m\n\u001b[0;32m    585\u001b[0m \u001b[39m\"\"\"\u001b[39;00m\n\u001b[0;32m    586\u001b[0m \u001b[39mif\u001b[39;00m ids \u001b[39mand\u001b[39;00m \u001b[39mlen\u001b[39m(ids) \u001b[39m!=\u001b[39m \u001b[39mlen\u001b[39m(\u001b[39mset\u001b[39m(ids)):\n\u001b[1;32m--> 587\u001b[0m     \u001b[39mraise\u001b[39;00m \u001b[39mValueError\u001b[39;00m(\n\u001b[0;32m    588\u001b[0m         \u001b[39m\"\u001b[39m\u001b[39mThe argument to the ids parameter contains duplicate entries.\u001b[39m\u001b[39m\"\u001b[39m\n\u001b[0;32m    589\u001b[0m     )\n\u001b[0;32m    591\u001b[0m wttype \u001b[39m=\u001b[39m WT_TYPE[criterion\u001b[39m.\u001b[39mlower()]\n\u001b[0;32m    592\u001b[0m geo \u001b[39m=\u001b[39m polygons\n",
      "\u001b[1;31mValueError\u001b[0m: The argument to the ids parameter contains duplicate entries."
     ]
    }
   ],
   "source": [
    "w_queen = weights.Queen.from_dataframe(gdf, idVariable=\"fer_rate\")"
   ]
  }
 ],
 "metadata": {
  "kernelspec": {
   "display_name": "gds_py",
   "language": "python",
   "name": "python3"
  },
  "language_info": {
   "codemirror_mode": {
    "name": "ipython",
    "version": 3
   },
   "file_extension": ".py",
   "mimetype": "text/x-python",
   "name": "python",
   "nbconvert_exporter": "python",
   "pygments_lexer": "ipython3",
   "version": "3.9.16"
  },
  "orig_nbformat": 4
 },
 "nbformat": 4,
 "nbformat_minor": 2
}

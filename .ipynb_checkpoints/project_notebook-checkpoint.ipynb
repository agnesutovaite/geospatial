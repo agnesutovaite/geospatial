{
 "cells": [
  {
   "cell_type": "markdown",
   "metadata": {},
   "source": [
    "# Association between Fertility & Local Municipal Characteristics in Denmark "
   ]
  },
  {
   "cell_type": "markdown",
   "metadata": {},
   "source": [
    "### Imports"
   ]
  },
  {
   "cell_type": "code",
   "execution_count": 2,
   "metadata": {},
   "outputs": [
    {
     "name": "stderr",
     "output_type": "stream",
     "text": [
      "ERROR 1: PROJ: proj_create_from_database: Open of /opt/conda/share/proj failed\n"
     ]
    }
   ],
   "source": [
    "import geopandas as gpd # for geospatial data handling\n",
    "import pandas as pd\n",
    "import contextily as cx # for plotting\n",
    "import matplotlib.pyplot as plt # for plotting\n",
    "from pyproj import CRS # for more advanced CRS modifications and transformations\n",
    "\n",
    "import warnings\n",
    "warnings.filterwarnings(\"ignore\", category=DeprecationWarning) \n",
    "warnings.filterwarnings(\"ignore\", category=FutureWarning) "
   ]
  },
  {
   "cell_type": "markdown",
   "metadata": {},
   "source": [
    "### Data"
   ]
  },
  {
   "cell_type": "markdown",
   "metadata": {},
   "source": [
    "Load the data from DenmarkStatistik and geometries for municipalities of Denmark and then merge them into one geo dataframe"
   ]
  },
  {
   "cell_type": "code",
   "execution_count": 3,
   "metadata": {},
   "outputs": [],
   "source": [
    "data_edu = pd.read_excel('Data/Educational_attainment_by_highest_education_completed_(total)_2021.xlsx')\n",
    "data_fer = pd.read_excel('Data/fertility_rates_by_municipality_2021.xlsx')\n",
    "data_bir = pd.read_excel('Data/live_births_by_municipality_2021.xlsx')\n",
    "data_mar = pd.read_excel('Data/market_value_for_real_estate_average_dkk_2021.xlsx')"
   ]
  },
  {
   "cell_type": "code",
   "execution_count": 18,
   "metadata": {},
   "outputs": [],
   "source": [
    "geometry = gpd.read_file('Data/municipalities_dk.gpkg')"
   ]
  },
  {
   "cell_type": "code",
   "execution_count": 19,
   "metadata": {},
   "outputs": [
    {
     "data": {
      "text/html": [
       "<div>\n",
       "<style scoped>\n",
       "    .dataframe tbody tr th:only-of-type {\n",
       "        vertical-align: middle;\n",
       "    }\n",
       "\n",
       "    .dataframe tbody tr th {\n",
       "        vertical-align: top;\n",
       "    }\n",
       "\n",
       "    .dataframe thead th {\n",
       "        text-align: right;\n",
       "    }\n",
       "</style>\n",
       "<table border=\"1\" class=\"dataframe\">\n",
       "  <thead>\n",
       "    <tr style=\"text-align: right;\">\n",
       "      <th></th>\n",
       "      <th>kommunekode</th>\n",
       "      <th>navn</th>\n",
       "      <th>region</th>\n",
       "      <th>municipal_id</th>\n",
       "      <th>geometry</th>\n",
       "    </tr>\n",
       "  </thead>\n",
       "  <tbody>\n",
       "    <tr>\n",
       "      <th>0</th>\n",
       "      <td>0370</td>\n",
       "      <td>Næstved</td>\n",
       "      <td>None</td>\n",
       "      <td>370</td>\n",
       "      <td>MULTIPOLYGON (((672902.450 6143708.870, 672880...</td>\n",
       "    </tr>\n",
       "    <tr>\n",
       "      <th>1</th>\n",
       "      <td>0330</td>\n",
       "      <td>Slagelse</td>\n",
       "      <td>None</td>\n",
       "      <td>330</td>\n",
       "      <td>MULTIPOLYGON (((654675.250 6154223.210, 654636...</td>\n",
       "    </tr>\n",
       "    <tr>\n",
       "      <th>2</th>\n",
       "      <td>0766</td>\n",
       "      <td>Hedensted</td>\n",
       "      <td>None</td>\n",
       "      <td>766</td>\n",
       "      <td>MULTIPOLYGON (((563379.450 6175110.360, 563346...</td>\n",
       "    </tr>\n",
       "    <tr>\n",
       "      <th>3</th>\n",
       "      <td>0510</td>\n",
       "      <td>Haderslev</td>\n",
       "      <td>None</td>\n",
       "      <td>510</td>\n",
       "      <td>MULTIPOLYGON (((516449.610 6137370.130, 516423...</td>\n",
       "    </tr>\n",
       "    <tr>\n",
       "      <th>4</th>\n",
       "      <td>0550</td>\n",
       "      <td>Tønder</td>\n",
       "      <td>None</td>\n",
       "      <td>550</td>\n",
       "      <td>MULTIPOLYGON (((482562.400 6122027.620, 482507...</td>\n",
       "    </tr>\n",
       "  </tbody>\n",
       "</table>\n",
       "</div>"
      ],
      "text/plain": [
       "  kommunekode       navn region  municipal_id  \\\n",
       "0        0370    Næstved   None           370   \n",
       "1        0330   Slagelse   None           330   \n",
       "2        0766  Hedensted   None           766   \n",
       "3        0510  Haderslev   None           510   \n",
       "4        0550     Tønder   None           550   \n",
       "\n",
       "                                            geometry  \n",
       "0  MULTIPOLYGON (((672902.450 6143708.870, 672880...  \n",
       "1  MULTIPOLYGON (((654675.250 6154223.210, 654636...  \n",
       "2  MULTIPOLYGON (((563379.450 6175110.360, 563346...  \n",
       "3  MULTIPOLYGON (((516449.610 6137370.130, 516423...  \n",
       "4  MULTIPOLYGON (((482562.400 6122027.620, 482507...  "
      ]
     },
     "execution_count": 19,
     "metadata": {},
     "output_type": "execute_result"
    }
   ],
   "source": [
    "geometry.head()"
   ]
  },
  {
   "cell_type": "code",
   "execution_count": 23,
   "metadata": {},
   "outputs": [],
   "source": [
    "# rename the columns to prepare for merge\n",
    "data_edu.rename(columns = {'Unnamed: 0':'municipality_nm', 2021:'edu_att'}, inplace = True)\n",
    "data_fer.rename(columns = {'Unnamed: 0':'municipality_nm', 2021:'fer_rate'}, inplace = True)\n",
    "data_bir.rename(columns = {'Unnamed: 0':'municipality_nm', 2021:'live_birth'}, inplace = True)\n",
    "data_mar.rename(columns = {'Unnamed: 0':'municipality_nm', 2021:'market_val'}, inplace = True)"
   ]
  },
  {
   "cell_type": "code",
   "execution_count": 24,
   "metadata": {},
   "outputs": [],
   "source": [
    "# merge to one data frame\n",
    "data = pd.merge(pd.merge(data_fer, data_bir), pd.merge(data_edu, data_mar))"
   ]
  },
  {
   "cell_type": "code",
   "execution_count": 25,
   "metadata": {},
   "outputs": [
    {
     "data": {
      "text/html": [
       "<div>\n",
       "<style scoped>\n",
       "    .dataframe tbody tr th:only-of-type {\n",
       "        vertical-align: middle;\n",
       "    }\n",
       "\n",
       "    .dataframe tbody tr th {\n",
       "        vertical-align: top;\n",
       "    }\n",
       "\n",
       "    .dataframe thead th {\n",
       "        text-align: right;\n",
       "    }\n",
       "</style>\n",
       "<table border=\"1\" class=\"dataframe\">\n",
       "  <thead>\n",
       "    <tr style=\"text-align: right;\">\n",
       "      <th></th>\n",
       "      <th>municipality_nm</th>\n",
       "      <th>fer_rate</th>\n",
       "      <th>live_birth</th>\n",
       "      <th>edu_att</th>\n",
       "      <th>market_val</th>\n",
       "    </tr>\n",
       "  </thead>\n",
       "  <tbody>\n",
       "    <tr>\n",
       "      <th>0</th>\n",
       "      <td>Copenhagen</td>\n",
       "      <td>1 563.9</td>\n",
       "      <td>10 285</td>\n",
       "      <td>501 212</td>\n",
       "      <td>2 399 736</td>\n",
       "    </tr>\n",
       "    <tr>\n",
       "      <th>1</th>\n",
       "      <td>Frederiksberg</td>\n",
       "      <td>1 787.8</td>\n",
       "      <td>1 534</td>\n",
       "      <td>74 788</td>\n",
       "      <td>3 435 510</td>\n",
       "    </tr>\n",
       "    <tr>\n",
       "      <th>2</th>\n",
       "      <td>Dragør</td>\n",
       "      <td>2 510.9</td>\n",
       "      <td>146</td>\n",
       "      <td>9 074</td>\n",
       "      <td>4 014 690</td>\n",
       "    </tr>\n",
       "    <tr>\n",
       "      <th>3</th>\n",
       "      <td>Tårnby</td>\n",
       "      <td>2 056.7</td>\n",
       "      <td>473</td>\n",
       "      <td>28 727</td>\n",
       "      <td>2 823 345</td>\n",
       "    </tr>\n",
       "    <tr>\n",
       "      <th>4</th>\n",
       "      <td>Albertslund</td>\n",
       "      <td>1 608.7</td>\n",
       "      <td>274</td>\n",
       "      <td>18 664</td>\n",
       "      <td>2 931 561</td>\n",
       "    </tr>\n",
       "  </tbody>\n",
       "</table>\n",
       "</div>"
      ],
      "text/plain": [
       "  municipality_nm fer_rate live_birth  edu_att market_val\n",
       "0      Copenhagen  1 563.9     10 285  501 212  2 399 736\n",
       "1   Frederiksberg  1 787.8      1 534   74 788  3 435 510\n",
       "2          Dragør  2 510.9        146    9 074  4 014 690\n",
       "3          Tårnby  2 056.7        473   28 727  2 823 345\n",
       "4     Albertslund  1 608.7        274   18 664  2 931 561"
      ]
     },
     "execution_count": 25,
     "metadata": {},
     "output_type": "execute_result"
    }
   ],
   "source": [
    "data.head()"
   ]
  },
  {
   "cell_type": "code",
   "execution_count": 31,
   "metadata": {},
   "outputs": [],
   "source": [
    "data['municipality_nm'] = data['municipality_nm'].replace('Copenhagen', 'København')\n"
   ]
  },
  {
   "cell_type": "code",
   "execution_count": 32,
   "metadata": {},
   "outputs": [
    {
     "data": {
      "text/html": [
       "<div>\n",
       "<style scoped>\n",
       "    .dataframe tbody tr th:only-of-type {\n",
       "        vertical-align: middle;\n",
       "    }\n",
       "\n",
       "    .dataframe tbody tr th {\n",
       "        vertical-align: top;\n",
       "    }\n",
       "\n",
       "    .dataframe thead th {\n",
       "        text-align: right;\n",
       "    }\n",
       "</style>\n",
       "<table border=\"1\" class=\"dataframe\">\n",
       "  <thead>\n",
       "    <tr style=\"text-align: right;\">\n",
       "      <th></th>\n",
       "      <th>kommunekode</th>\n",
       "      <th>municipality_nm</th>\n",
       "      <th>region</th>\n",
       "      <th>municipal_id</th>\n",
       "      <th>geometry</th>\n",
       "    </tr>\n",
       "  </thead>\n",
       "  <tbody>\n",
       "    <tr>\n",
       "      <th>0</th>\n",
       "      <td>0370</td>\n",
       "      <td>Næstved</td>\n",
       "      <td>None</td>\n",
       "      <td>370</td>\n",
       "      <td>MULTIPOLYGON (((672902.450 6143708.870, 672880...</td>\n",
       "    </tr>\n",
       "    <tr>\n",
       "      <th>1</th>\n",
       "      <td>0330</td>\n",
       "      <td>Slagelse</td>\n",
       "      <td>None</td>\n",
       "      <td>330</td>\n",
       "      <td>MULTIPOLYGON (((654675.250 6154223.210, 654636...</td>\n",
       "    </tr>\n",
       "    <tr>\n",
       "      <th>2</th>\n",
       "      <td>0766</td>\n",
       "      <td>Hedensted</td>\n",
       "      <td>None</td>\n",
       "      <td>766</td>\n",
       "      <td>MULTIPOLYGON (((563379.450 6175110.360, 563346...</td>\n",
       "    </tr>\n",
       "    <tr>\n",
       "      <th>3</th>\n",
       "      <td>0510</td>\n",
       "      <td>Haderslev</td>\n",
       "      <td>None</td>\n",
       "      <td>510</td>\n",
       "      <td>MULTIPOLYGON (((516449.610 6137370.130, 516423...</td>\n",
       "    </tr>\n",
       "    <tr>\n",
       "      <th>4</th>\n",
       "      <td>0550</td>\n",
       "      <td>Tønder</td>\n",
       "      <td>None</td>\n",
       "      <td>550</td>\n",
       "      <td>MULTIPOLYGON (((482562.400 6122027.620, 482507...</td>\n",
       "    </tr>\n",
       "  </tbody>\n",
       "</table>\n",
       "</div>"
      ],
      "text/plain": [
       "  kommunekode municipality_nm region  municipal_id  \\\n",
       "0        0370         Næstved   None           370   \n",
       "1        0330        Slagelse   None           330   \n",
       "2        0766       Hedensted   None           766   \n",
       "3        0510       Haderslev   None           510   \n",
       "4        0550          Tønder   None           550   \n",
       "\n",
       "                                            geometry  \n",
       "0  MULTIPOLYGON (((672902.450 6143708.870, 672880...  \n",
       "1  MULTIPOLYGON (((654675.250 6154223.210, 654636...  \n",
       "2  MULTIPOLYGON (((563379.450 6175110.360, 563346...  \n",
       "3  MULTIPOLYGON (((516449.610 6137370.130, 516423...  \n",
       "4  MULTIPOLYGON (((482562.400 6122027.620, 482507...  "
      ]
     },
     "execution_count": 32,
     "metadata": {},
     "output_type": "execute_result"
    }
   ],
   "source": [
    "geometry = geometry.rename(columns={'navn': 'municipality_nm'})\n",
    "geometry.head()"
   ]
  },
  {
   "cell_type": "code",
   "execution_count": 33,
   "metadata": {},
   "outputs": [],
   "source": [
    "merged_data = pd.merge(data, geometry, on='municipality_nm')"
   ]
  },
  {
   "cell_type": "code",
   "execution_count": 34,
   "metadata": {},
   "outputs": [
    {
     "data": {
      "text/html": [
       "<div>\n",
       "<style scoped>\n",
       "    .dataframe tbody tr th:only-of-type {\n",
       "        vertical-align: middle;\n",
       "    }\n",
       "\n",
       "    .dataframe tbody tr th {\n",
       "        vertical-align: top;\n",
       "    }\n",
       "\n",
       "    .dataframe thead th {\n",
       "        text-align: right;\n",
       "    }\n",
       "</style>\n",
       "<table border=\"1\" class=\"dataframe\">\n",
       "  <thead>\n",
       "    <tr style=\"text-align: right;\">\n",
       "      <th></th>\n",
       "      <th>municipality_nm</th>\n",
       "      <th>fer_rate</th>\n",
       "      <th>live_birth</th>\n",
       "      <th>edu_att</th>\n",
       "      <th>market_val</th>\n",
       "      <th>kommunekode</th>\n",
       "      <th>region</th>\n",
       "      <th>municipal_id</th>\n",
       "      <th>geometry</th>\n",
       "    </tr>\n",
       "  </thead>\n",
       "  <tbody>\n",
       "    <tr>\n",
       "      <th>0</th>\n",
       "      <td>København</td>\n",
       "      <td>1 563.9</td>\n",
       "      <td>10 285</td>\n",
       "      <td>501 212</td>\n",
       "      <td>2 399 736</td>\n",
       "      <td>0101</td>\n",
       "      <td>None</td>\n",
       "      <td>101</td>\n",
       "      <td>MULTIPOLYGON (((723090.010 6171801.780, 723090...</td>\n",
       "    </tr>\n",
       "    <tr>\n",
       "      <th>1</th>\n",
       "      <td>Frederiksberg</td>\n",
       "      <td>1 787.8</td>\n",
       "      <td>1 534</td>\n",
       "      <td>74 788</td>\n",
       "      <td>3 435 510</td>\n",
       "      <td>0147</td>\n",
       "      <td>None</td>\n",
       "      <td>147</td>\n",
       "      <td>MULTIPOLYGON (((722290.770 6177984.800, 722299...</td>\n",
       "    </tr>\n",
       "    <tr>\n",
       "      <th>2</th>\n",
       "      <td>Dragør</td>\n",
       "      <td>2 510.9</td>\n",
       "      <td>146</td>\n",
       "      <td>9 074</td>\n",
       "      <td>4 014 690</td>\n",
       "      <td>0155</td>\n",
       "      <td>None</td>\n",
       "      <td>155</td>\n",
       "      <td>MULTIPOLYGON (((729575.650 6168529.720, 729555...</td>\n",
       "    </tr>\n",
       "    <tr>\n",
       "      <th>3</th>\n",
       "      <td>Tårnby</td>\n",
       "      <td>2 056.7</td>\n",
       "      <td>473</td>\n",
       "      <td>28 727</td>\n",
       "      <td>2 823 345</td>\n",
       "      <td>0185</td>\n",
       "      <td>None</td>\n",
       "      <td>185</td>\n",
       "      <td>MULTIPOLYGON (((729600.300 6172549.660, 729596...</td>\n",
       "    </tr>\n",
       "    <tr>\n",
       "      <th>4</th>\n",
       "      <td>Albertslund</td>\n",
       "      <td>1 608.7</td>\n",
       "      <td>274</td>\n",
       "      <td>18 664</td>\n",
       "      <td>2 931 561</td>\n",
       "      <td>0165</td>\n",
       "      <td>None</td>\n",
       "      <td>165</td>\n",
       "      <td>MULTIPOLYGON (((711377.280 6178342.550, 711352...</td>\n",
       "    </tr>\n",
       "  </tbody>\n",
       "</table>\n",
       "</div>"
      ],
      "text/plain": [
       "  municipality_nm fer_rate live_birth  edu_att market_val kommunekode region  \\\n",
       "0       København  1 563.9     10 285  501 212  2 399 736        0101   None   \n",
       "1   Frederiksberg  1 787.8      1 534   74 788  3 435 510        0147   None   \n",
       "2          Dragør  2 510.9        146    9 074  4 014 690        0155   None   \n",
       "3          Tårnby  2 056.7        473   28 727  2 823 345        0185   None   \n",
       "4     Albertslund  1 608.7        274   18 664  2 931 561        0165   None   \n",
       "\n",
       "   municipal_id                                           geometry  \n",
       "0           101  MULTIPOLYGON (((723090.010 6171801.780, 723090...  \n",
       "1           147  MULTIPOLYGON (((722290.770 6177984.800, 722299...  \n",
       "2           155  MULTIPOLYGON (((729575.650 6168529.720, 729555...  \n",
       "3           185  MULTIPOLYGON (((729600.300 6172549.660, 729596...  \n",
       "4           165  MULTIPOLYGON (((711377.280 6178342.550, 711352...  "
      ]
     },
     "execution_count": 34,
     "metadata": {},
     "output_type": "execute_result"
    }
   ],
   "source": [
    "merged_data.head()"
   ]
  },
  {
   "cell_type": "code",
   "execution_count": null,
   "metadata": {},
   "outputs": [],
   "source": []
  }
 ],
 "metadata": {
  "kernelspec": {
   "display_name": "Python 3 (ipykernel)",
   "language": "python",
   "name": "python3"
  },
  "language_info": {
   "codemirror_mode": {
    "name": "ipython",
    "version": 3
   },
   "file_extension": ".py",
   "mimetype": "text/x-python",
   "name": "python",
   "nbconvert_exporter": "python",
   "pygments_lexer": "ipython3",
   "version": "3.9.12"
  }
 },
 "nbformat": 4,
 "nbformat_minor": 4
}

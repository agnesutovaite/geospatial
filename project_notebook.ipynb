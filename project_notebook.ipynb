{
 "cells": [
  {
   "attachments": {},
   "cell_type": "markdown",
   "metadata": {},
   "source": [
    "# Association between Fertility & Local Municipal Characteristics in Denmark "
   ]
  },
  {
   "attachments": {},
   "cell_type": "markdown",
   "metadata": {},
   "source": [
    "### Imports"
   ]
  },
  {
   "cell_type": "code",
   "execution_count": 3,
   "metadata": {},
   "outputs": [
    {
     "name": "stderr",
     "output_type": "stream",
     "text": [
      "C:\\Users\\sutov\\AppData\\Local\\Temp\\ipykernel_14516\\4267562653.py:1: UserWarning: Shapely 2.0 is installed, but because PyGEOS is also installed, GeoPandas will still use PyGEOS by default for now. To force to use and test Shapely 2.0, you have to set the environment variable USE_PYGEOS=0. You can do this before starting the Python process, or in your code before importing geopandas:\n",
      "\n",
      "import os\n",
      "os.environ['USE_PYGEOS'] = '0'\n",
      "import geopandas\n",
      "\n",
      "In a future release, GeoPandas will switch to using Shapely by default. If you are using PyGEOS directly (calling PyGEOS functions on geometries from GeoPandas), this will then stop working and you are encouraged to migrate from PyGEOS to Shapely 2.0 (https://shapely.readthedocs.io/en/latest/migration_pygeos.html).\n",
      "  import geopandas as gpd # for geospatial data handling\n"
     ]
    }
   ],
   "source": [
    "import geopandas as gpd # for geospatial data handling\n",
    "import pandas as pd\n",
    "import contextily as cx # for plotting\n",
    "import matplotlib.pyplot as plt # for plotting\n",
    "from pyproj import CRS # for more advanced CRS modifications and transformations\n",
    "\n",
    "import warnings\n",
    "warnings.filterwarnings(\"ignore\", category=DeprecationWarning) \n",
    "warnings.filterwarnings(\"ignore\", category=FutureWarning) "
   ]
  },
  {
   "attachments": {},
   "cell_type": "markdown",
   "metadata": {},
   "source": [
    "### Data"
   ]
  },
  {
   "attachments": {},
   "cell_type": "markdown",
   "metadata": {},
   "source": [
    "Load the data from DenmarkStatistik and geometries for municipalities of Denmark and then merge them into one geo dataframe"
   ]
  },
  {
   "attachments": {},
   "cell_type": "markdown",
   "metadata": {},
   "source": [
    "'Data/Educational_attainment_by_highest_education_completed_(total)_2021.xlsx'\n"
   ]
  },
  {
   "cell_type": "code",
   "execution_count": 17,
   "metadata": {},
   "outputs": [],
   "source": [
    "data_edu = pd.read_excel('Data/Educational_attainment_by_highest_education_completed_(total)_2021.xlsx')\n",
    "data_fer = pd.read_excel('Data/fertility_rates_by_municipality_2021.xlsx')\n",
    "data_bir = pd.read_excel('Data/live_births_by_municipality_2021.xlsx')\n",
    "data_mar = pd.read_excel('Data/market_value_for_real_estate_average_dkk_2021.xlsx')"
   ]
  },
  {
   "cell_type": "code",
   "execution_count": 21,
   "metadata": {},
   "outputs": [],
   "source": [
    "# rename the columns to prepare for merge\n",
    "data_edu.rename(columns = {'Unnamed: 0':'municipality_nm', 2021:'edu_att'}, inplace = True)\n",
    "data_fer.rename(columns = {'Unnamed: 0':'municipality_nm', 2021:'fer_rate'}, inplace = True)\n",
    "data_bir.rename(columns = {'Unnamed: 0':'municipality_nm', 2021:'live_birth'}, inplace = True)\n",
    "data_mar.rename(columns = {'Unnamed: 0':'municipality_nm', 2021:'market_val'}, inplace = True)"
   ]
  },
  {
   "cell_type": "code",
   "execution_count": 27,
   "metadata": {},
   "outputs": [
    {
     "data": {
      "text/html": [
       "<div>\n",
       "<style scoped>\n",
       "    .dataframe tbody tr th:only-of-type {\n",
       "        vertical-align: middle;\n",
       "    }\n",
       "\n",
       "    .dataframe tbody tr th {\n",
       "        vertical-align: top;\n",
       "    }\n",
       "\n",
       "    .dataframe thead th {\n",
       "        text-align: right;\n",
       "    }\n",
       "</style>\n",
       "<table border=\"1\" class=\"dataframe\">\n",
       "  <thead>\n",
       "    <tr style=\"text-align: right;\">\n",
       "      <th></th>\n",
       "      <th>municipality_nm</th>\n",
       "      <th>fer_rate</th>\n",
       "      <th>live_birth</th>\n",
       "      <th>edu_att</th>\n",
       "      <th>market_val</th>\n",
       "    </tr>\n",
       "  </thead>\n",
       "  <tbody>\n",
       "    <tr>\n",
       "      <th>0</th>\n",
       "      <td>Copenhagen</td>\n",
       "      <td>1 563.9</td>\n",
       "      <td>10 285</td>\n",
       "      <td>501 212</td>\n",
       "      <td>2 399 736</td>\n",
       "    </tr>\n",
       "    <tr>\n",
       "      <th>1</th>\n",
       "      <td>Frederiksberg</td>\n",
       "      <td>1 787.8</td>\n",
       "      <td>1 534</td>\n",
       "      <td>74 788</td>\n",
       "      <td>3 435 510</td>\n",
       "    </tr>\n",
       "    <tr>\n",
       "      <th>2</th>\n",
       "      <td>Dragør</td>\n",
       "      <td>2 510.9</td>\n",
       "      <td>146</td>\n",
       "      <td>9 074</td>\n",
       "      <td>4 014 690</td>\n",
       "    </tr>\n",
       "    <tr>\n",
       "      <th>3</th>\n",
       "      <td>Tårnby</td>\n",
       "      <td>2 056.7</td>\n",
       "      <td>473</td>\n",
       "      <td>28 727</td>\n",
       "      <td>2 823 345</td>\n",
       "    </tr>\n",
       "    <tr>\n",
       "      <th>4</th>\n",
       "      <td>Albertslund</td>\n",
       "      <td>1 608.7</td>\n",
       "      <td>274</td>\n",
       "      <td>18 664</td>\n",
       "      <td>2 931 561</td>\n",
       "    </tr>\n",
       "    <tr>\n",
       "      <th>...</th>\n",
       "      <td>...</td>\n",
       "      <td>...</td>\n",
       "      <td>...</td>\n",
       "      <td>...</td>\n",
       "      <td>...</td>\n",
       "    </tr>\n",
       "    <tr>\n",
       "      <th>93</th>\n",
       "      <td>Morsø</td>\n",
       "      <td>2 080.7</td>\n",
       "      <td>180</td>\n",
       "      <td>13 103</td>\n",
       "      <td>1 321 820</td>\n",
       "    </tr>\n",
       "    <tr>\n",
       "      <th>94</th>\n",
       "      <td>Rebild</td>\n",
       "      <td>2 400.5</td>\n",
       "      <td>380</td>\n",
       "      <td>20 166</td>\n",
       "      <td>1 997 252</td>\n",
       "    </tr>\n",
       "    <tr>\n",
       "      <th>95</th>\n",
       "      <td>Thisted</td>\n",
       "      <td>2 063.8</td>\n",
       "      <td>410</td>\n",
       "      <td>28 630</td>\n",
       "      <td>1 422 277</td>\n",
       "    </tr>\n",
       "    <tr>\n",
       "      <th>96</th>\n",
       "      <td>Vesthimmerlands</td>\n",
       "      <td>1 824.4</td>\n",
       "      <td>314</td>\n",
       "      <td>24 005</td>\n",
       "      <td>1 495 512</td>\n",
       "    </tr>\n",
       "    <tr>\n",
       "      <th>97</th>\n",
       "      <td>Aalborg</td>\n",
       "      <td>1 604.3</td>\n",
       "      <td>2 488</td>\n",
       "      <td>158 831</td>\n",
       "      <td>2 042 461</td>\n",
       "    </tr>\n",
       "  </tbody>\n",
       "</table>\n",
       "<p>98 rows × 5 columns</p>\n",
       "</div>"
      ],
      "text/plain": [
       "    municipality_nm fer_rate live_birth  edu_att market_val\n",
       "0        Copenhagen  1 563.9     10 285  501 212  2 399 736\n",
       "1     Frederiksberg  1 787.8      1 534   74 788  3 435 510\n",
       "2            Dragør  2 510.9        146    9 074  4 014 690\n",
       "3            Tårnby  2 056.7        473   28 727  2 823 345\n",
       "4       Albertslund  1 608.7        274   18 664  2 931 561\n",
       "..              ...      ...        ...      ...        ...\n",
       "93            Morsø  2 080.7        180   13 103  1 321 820\n",
       "94           Rebild  2 400.5        380   20 166  1 997 252\n",
       "95          Thisted  2 063.8        410   28 630  1 422 277\n",
       "96  Vesthimmerlands  1 824.4        314   24 005  1 495 512\n",
       "97          Aalborg  1 604.3      2 488  158 831  2 042 461\n",
       "\n",
       "[98 rows x 5 columns]"
      ]
     },
     "execution_count": 27,
     "metadata": {},
     "output_type": "execute_result"
    }
   ],
   "source": [
    "# merge to one data frame\n",
    "data = pd.merge(pd.merge(data_fer, data_bir), pd.merge(data_edu, data_mar))"
   ]
  },
  {
   "attachments": {},
   "cell_type": "markdown",
   "metadata": {},
   "source": [
    "Load the geometries"
   ]
  },
  {
   "attachments": {},
   "cell_type": "markdown",
   "metadata": {},
   "source": [
    "## Inspecting spatial data"
   ]
  },
  {
   "cell_type": "code",
   "execution_count": null,
   "metadata": {},
   "outputs": [],
   "source": [
    "# just ploting the plygons\n",
    "cities.plot();"
   ]
  },
  {
   "cell_type": "code",
   "execution_count": null,
   "metadata": {},
   "outputs": [],
   "source": [
    "# quick interactive map\n",
    "cities.explore()"
   ]
  }
 ],
 "metadata": {
  "kernelspec": {
   "display_name": "gds_py",
   "language": "python",
   "name": "python3"
  },
  "language_info": {
   "codemirror_mode": {
    "name": "ipython",
    "version": 3
   },
   "file_extension": ".py",
   "mimetype": "text/x-python",
   "name": "python",
   "nbconvert_exporter": "python",
   "pygments_lexer": "ipython3",
   "version": "3.9.16"
  },
  "orig_nbformat": 4
 },
 "nbformat": 4,
 "nbformat_minor": 2
}

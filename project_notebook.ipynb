{
 "cells": [
  {
   "cell_type": "markdown",
   "metadata": {},
   "source": [
    "# Association between Fertility & Local Municipal Characteristics in Denmark "
   ]
  },
  {
   "cell_type": "markdown",
   "metadata": {},
   "source": [
    "### Imports"
   ]
  },
  {
   "cell_type": "code",
   "execution_count": 151,
   "metadata": {},
   "outputs": [],
   "source": [
    "import geopandas as gpd # for geospatial data handling\n",
    "import pandas as pd\n",
    "import contextily as cx # for plotting\n",
    "import matplotlib.pyplot as plt # for plotting\n",
    "from pyproj import CRS # for more advanced CRS modifications and transformations\n",
    "import numpy as np\n",
    "\n",
    "import warnings\n",
    "warnings.filterwarnings(\"ignore\", category=DeprecationWarning) \n",
    "warnings.filterwarnings(\"ignore\", category=FutureWarning) "
   ]
  },
  {
   "cell_type": "markdown",
   "metadata": {},
   "source": [
    "### Data"
   ]
  },
  {
   "cell_type": "markdown",
   "metadata": {},
   "source": [
    "Load the data from DenmarkStatistik and geometries for municipalities of Denmark and then merge them into one geo dataframe"
   ]
  },
  {
   "cell_type": "markdown",
   "metadata": {},
   "source": [
    "'Data/Educational_attainment_by_highest_education_completed_(total)_2021.xlsx'\n"
   ]
  },
  {
   "cell_type": "code",
   "execution_count": 152,
   "metadata": {},
   "outputs": [],
   "source": [
    "data_edu = pd.read_excel('Data/Educational_attainment_by_highest_education_completed_(total)_2021.xlsx')\n",
    "data_fer = pd.read_excel('Data/fertility_rates_by_municipality_2021.xlsx')\n",
    "data_bir = pd.read_excel('Data/live_births_by_municipality_2021.xlsx')\n",
    "data_mar = pd.read_excel('Data/market_value_for_real_estate_average_dkk_2021.xlsx')"
   ]
  },
  {
   "cell_type": "code",
   "execution_count": 153,
   "metadata": {},
   "outputs": [],
   "source": [
    "geometries = gpd.read_file('Data/municipalities_dk.gpkg') #added\n",
    "# geometry.head()"
   ]
  },
  {
   "cell_type": "code",
   "execution_count": 154,
   "metadata": {},
   "outputs": [],
   "source": [
    "# rename the columns to prepare for merge\n",
    "data_edu.rename(columns = {'Unnamed: 0':'municipality_nm', 2021:'edu_att'}, inplace = True)\n",
    "data_fer.rename(columns = {'Unnamed: 0':'municipality_nm', 2021:'fer_rate'}, inplace = True)\n",
    "data_bir.rename(columns = {'Unnamed: 0':'municipality_nm', 2021:'live_birth'}, inplace = True)\n",
    "data_mar.rename(columns = {'Unnamed: 0':'municipality_nm', 2021:'market_val'}, inplace = True)"
   ]
  },
  {
   "cell_type": "code",
   "execution_count": 155,
   "metadata": {},
   "outputs": [],
   "source": [
    "# merge to one data frame\n",
    "data = pd.merge(pd.merge(data_fer, data_bir), pd.merge(data_edu, data_mar))\n",
    "# data.head()"
   ]
  },
  {
   "cell_type": "code",
   "execution_count": 156,
   "metadata": {},
   "outputs": [],
   "source": [
    "variables = ['edu_att', 'fer_rate', 'live_birth', 'market_val']"
   ]
  },
  {
   "attachments": {},
   "cell_type": "markdown",
   "metadata": {},
   "source": [
    "deal with missing value and types"
   ]
  },
  {
   "cell_type": "code",
   "execution_count": null,
   "metadata": {},
   "outputs": [
    {
     "name": "stdout",
     "output_type": "stream",
     "text": [
      "    municipality_nm  fer_rate live_birth  edu_att market_val\n",
      "0        Copenhagen    1563.9     10 285  501 212  2 399 736\n",
      "1     Frederiksberg    1787.8      1 534   74 788  3 435 510\n",
      "2            Dragør    2510.9        146    9 074  4 014 690\n",
      "3            Tårnby    2056.7        473   28 727  2 823 345\n",
      "4       Albertslund    1608.7        274   18 664  2 931 561\n",
      "..              ...       ...        ...      ...        ...\n",
      "93            Morsø    2080.7        180   13 103  1 321 820\n",
      "94           Rebild    2400.5        380   20 166  1 997 252\n",
      "95          Thisted    2063.8        410   28 630  1 422 277\n",
      "96  Vesthimmerlands    1824.4        314   24 005  1 495 512\n",
      "97          Aalborg    1604.3      2 488  158 831  2 042 461\n",
      "\n",
      "[98 rows x 5 columns]\n"
     ]
    }
   ],
   "source": [
    "# replacing missing values with 0\n",
    "data = data.replace('..', 0)\n",
    "# removing spaces and convert numbers to float\n",
    "data['fer_rate'] = data['fer_rate'].str.replace(' ', '').astype(float)\n",
    "# replacing non-finite values with 0\n",
    "data['fer_rate'] = data['fer_rate'] .replace([np.inf, -np.inf, np.nan], 0)\n"
   ]
  },
  {
   "cell_type": "code",
   "execution_count": null,
   "metadata": {},
   "outputs": [],
   "source": [
    "# data = data.replace('\\.+', np.nan, regex=True)"
   ]
  },
  {
   "cell_type": "code",
   "execution_count": null,
   "metadata": {},
   "outputs": [],
   "source": [
    "# data['fer_rate'] = data['fer_rate'].astype(str).str.replace(' ', 0)\n",
    "# data['fer_rate'] = data['fer_rate'].fillna(0).astype(int)"
   ]
  },
  {
   "cell_type": "code",
   "execution_count": null,
   "metadata": {},
   "outputs": [],
   "source": [
    "data['municipality_nm'] = data['municipality_nm'].replace('Copenhagen', 'København')\n",
    "geometries = geometries.rename(columns={'navn': 'municipality_nm'}) #added"
   ]
  },
  {
   "cell_type": "code",
   "execution_count": null,
   "metadata": {},
   "outputs": [],
   "source": [
    "data = pd.merge(data, geometries[['municipality_nm', 'kommunekode', 'municipal_id']]) #added"
   ]
  },
  {
   "cell_type": "code",
   "execution_count": null,
   "metadata": {},
   "outputs": [],
   "source": [
    "gdf = gpd.GeoDataFrame(data, geometry=geometries.geometry, crs = 'EPSG:25832') #added"
   ]
  },
  {
   "cell_type": "code",
   "execution_count": null,
   "metadata": {},
   "outputs": [],
   "source": [
    "# save the GeoDataFrame to a GeoJSON file\n",
    "gdf.to_file('Data/gdf.geojson', driver='GeoJSON')"
   ]
  }
 ],
 "metadata": {
  "kernelspec": {
   "display_name": "gds_py",
   "language": "python",
   "name": "python3"
  },
  "language_info": {
   "codemirror_mode": {
    "name": "ipython",
    "version": 3
   },
   "file_extension": ".py",
   "mimetype": "text/x-python",
   "name": "python",
   "nbconvert_exporter": "python",
   "pygments_lexer": "ipython3",
   "version": "3.9.16"
  },
  "orig_nbformat": 4
 },
 "nbformat": 4,
 "nbformat_minor": 2
}

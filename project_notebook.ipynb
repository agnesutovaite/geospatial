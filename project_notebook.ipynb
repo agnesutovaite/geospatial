{
 "cells": [
  {
   "cell_type": "markdown",
   "metadata": {},
   "source": [
    "# Association between Fertility & Local Municipal Characteristics in Denmark "
   ]
  },
  {
   "cell_type": "markdown",
   "metadata": {},
   "source": [
    "## Imports"
   ]
  },
  {
   "cell_type": "code",
   "execution_count": 3,
   "metadata": {},
   "outputs": [],
   "source": [
    "import geopandas as gpd # for geospatial data handling\n",
    "import pandas as pd\n",
    "import contextily as cx # for plotting\n",
    "import matplotlib.pyplot as plt # for plotting\n",
    "from pyproj import CRS # for more advanced CRS modifications and transformations\n",
    "import numpy as np\n",
    "\n",
    "import warnings\n",
    "warnings.filterwarnings(\"ignore\", category=DeprecationWarning) \n",
    "warnings.filterwarnings(\"ignore\", category=FutureWarning) "
   ]
  },
  {
   "cell_type": "markdown",
   "metadata": {},
   "source": [
    "## Load the Data"
   ]
  },
  {
   "cell_type": "markdown",
   "metadata": {},
   "source": [
    "Load the data extracts from DenmarkStatistik (process the data) and merge with geometries of municipalities in Denmark to a geo dataframe."
   ]
  },
  {
   "cell_type": "code",
   "execution_count": 4,
   "metadata": {},
   "outputs": [],
   "source": [
    "# total fertility rate (TFR)\n",
    "data_fer = pd.read_excel('Data/fertility_rates_by_municipality_2021.xlsx')\n",
    "# education\n",
    "data_edu = pd.read_excel('Data/Education_women_master_2021.xlsx')\n",
    "# disposable income\n",
    "data_inc = pd.read_excel('Data/Disposable_income_2021.xlsx')\n",
    "# dwelings with CPR\n",
    "data_dwe = pd.read_excel('Data/Dwellings_with_CPR_2021.xlsx')\n",
    "# household wealth\n",
    "data_wea = pd.read_excel('Data/Household_wealth_2021.xlsx')"
   ]
  },
  {
   "cell_type": "markdown",
   "metadata": {},
   "source": [
    "## Data processing "
   ]
  },
  {
   "cell_type": "markdown",
   "metadata": {},
   "source": [
    "### Fertility"
   ]
  },
  {
   "cell_type": "code",
   "execution_count": 5,
   "metadata": {},
   "outputs": [
    {
     "data": {
      "text/html": [
       "<div>\n",
       "<style scoped>\n",
       "    .dataframe tbody tr th:only-of-type {\n",
       "        vertical-align: middle;\n",
       "    }\n",
       "\n",
       "    .dataframe tbody tr th {\n",
       "        vertical-align: top;\n",
       "    }\n",
       "\n",
       "    .dataframe thead th {\n",
       "        text-align: right;\n",
       "    }\n",
       "</style>\n",
       "<table border=\"1\" class=\"dataframe\">\n",
       "  <thead>\n",
       "    <tr style=\"text-align: right;\">\n",
       "      <th></th>\n",
       "      <th>Unnamed: 0</th>\n",
       "      <th>2021</th>\n",
       "    </tr>\n",
       "  </thead>\n",
       "  <tbody>\n",
       "    <tr>\n",
       "      <th>0</th>\n",
       "      <td>Copenhagen</td>\n",
       "      <td>1 563.9</td>\n",
       "    </tr>\n",
       "    <tr>\n",
       "      <th>1</th>\n",
       "      <td>Frederiksberg</td>\n",
       "      <td>1 787.8</td>\n",
       "    </tr>\n",
       "    <tr>\n",
       "      <th>2</th>\n",
       "      <td>Dragør</td>\n",
       "      <td>2 510.9</td>\n",
       "    </tr>\n",
       "    <tr>\n",
       "      <th>3</th>\n",
       "      <td>Tårnby</td>\n",
       "      <td>2 056.7</td>\n",
       "    </tr>\n",
       "    <tr>\n",
       "      <th>4</th>\n",
       "      <td>Albertslund</td>\n",
       "      <td>1 608.7</td>\n",
       "    </tr>\n",
       "  </tbody>\n",
       "</table>\n",
       "</div>"
      ],
      "text/plain": [
       "      Unnamed: 0     2021\n",
       "0     Copenhagen  1 563.9\n",
       "1  Frederiksberg  1 787.8\n",
       "2         Dragør  2 510.9\n",
       "3         Tårnby  2 056.7\n",
       "4    Albertslund  1 608.7"
      ]
     },
     "execution_count": 5,
     "metadata": {},
     "output_type": "execute_result"
    }
   ],
   "source": [
    "# FERTILITY RATE\n",
    "data_fer.head()"
   ]
  },
  {
   "cell_type": "code",
   "execution_count": 6,
   "metadata": {},
   "outputs": [],
   "source": [
    "# replacing missing values with 0\n",
    "data_fer = data_fer.replace('..', 0)\n",
    "# removing spaces and convert numbers to float\n",
    "data_fer[2021] = data_fer[2021].str.replace(' ', '').astype(float)\n",
    "# replacing non-finite values with 0\n",
    "data_fer[2021] = data_fer[2021].replace([np.inf, -np.inf, np.nan], 0)"
   ]
  },
  {
   "cell_type": "code",
   "execution_count": 7,
   "metadata": {},
   "outputs": [],
   "source": [
    "# the total fertility rate is per 1000 women, so lets change so its easier to understand and round it\n",
    "data_fer[2021] = round(data_fer[2021] / 1000, 2)"
   ]
  },
  {
   "cell_type": "code",
   "execution_count": 8,
   "metadata": {},
   "outputs": [],
   "source": [
    "# change the name of the columnns\n",
    "data_fer.rename(columns = {'Unnamed: 0':'municipality_nm', 2021:'TFR'}, inplace = True)"
   ]
  },
  {
   "cell_type": "code",
   "execution_count": 9,
   "metadata": {},
   "outputs": [
    {
     "data": {
      "text/html": [
       "<div>\n",
       "<style scoped>\n",
       "    .dataframe tbody tr th:only-of-type {\n",
       "        vertical-align: middle;\n",
       "    }\n",
       "\n",
       "    .dataframe tbody tr th {\n",
       "        vertical-align: top;\n",
       "    }\n",
       "\n",
       "    .dataframe thead th {\n",
       "        text-align: right;\n",
       "    }\n",
       "</style>\n",
       "<table border=\"1\" class=\"dataframe\">\n",
       "  <thead>\n",
       "    <tr style=\"text-align: right;\">\n",
       "      <th></th>\n",
       "      <th>municipality_nm</th>\n",
       "      <th>TFR</th>\n",
       "    </tr>\n",
       "  </thead>\n",
       "  <tbody>\n",
       "    <tr>\n",
       "      <th>0</th>\n",
       "      <td>Copenhagen</td>\n",
       "      <td>1.56</td>\n",
       "    </tr>\n",
       "    <tr>\n",
       "      <th>1</th>\n",
       "      <td>Frederiksberg</td>\n",
       "      <td>1.79</td>\n",
       "    </tr>\n",
       "    <tr>\n",
       "      <th>2</th>\n",
       "      <td>Dragør</td>\n",
       "      <td>2.51</td>\n",
       "    </tr>\n",
       "    <tr>\n",
       "      <th>3</th>\n",
       "      <td>Tårnby</td>\n",
       "      <td>2.06</td>\n",
       "    </tr>\n",
       "    <tr>\n",
       "      <th>4</th>\n",
       "      <td>Albertslund</td>\n",
       "      <td>1.61</td>\n",
       "    </tr>\n",
       "  </tbody>\n",
       "</table>\n",
       "</div>"
      ],
      "text/plain": [
       "  municipality_nm   TFR\n",
       "0      Copenhagen  1.56\n",
       "1   Frederiksberg  1.79\n",
       "2          Dragør  2.51\n",
       "3          Tårnby  2.06\n",
       "4     Albertslund  1.61"
      ]
     },
     "execution_count": 9,
     "metadata": {},
     "output_type": "execute_result"
    }
   ],
   "source": [
    "data_fer.head()"
   ]
  },
  {
   "cell_type": "markdown",
   "metadata": {},
   "source": [
    "### Education"
   ]
  },
  {
   "cell_type": "code",
   "execution_count": 10,
   "metadata": {},
   "outputs": [
    {
     "data": {
      "text/html": [
       "<div>\n",
       "<style scoped>\n",
       "    .dataframe tbody tr th:only-of-type {\n",
       "        vertical-align: middle;\n",
       "    }\n",
       "\n",
       "    .dataframe tbody tr th {\n",
       "        vertical-align: top;\n",
       "    }\n",
       "\n",
       "    .dataframe thead th {\n",
       "        text-align: right;\n",
       "    }\n",
       "</style>\n",
       "<table border=\"1\" class=\"dataframe\">\n",
       "  <thead>\n",
       "    <tr style=\"text-align: right;\">\n",
       "      <th></th>\n",
       "      <th>2021</th>\n",
       "      <th>I alt (15-19 år)</th>\n",
       "      <th>15-19 år</th>\n",
       "      <th>I alt (20-24 år)</th>\n",
       "      <th>20-24 år</th>\n",
       "      <th>I alt (25-29 år)</th>\n",
       "      <th>25-29 år</th>\n",
       "      <th>I alt (30-34 år)</th>\n",
       "      <th>30-34 år</th>\n",
       "      <th>I alt (35-39 år)</th>\n",
       "      <th>35-39 år</th>\n",
       "    </tr>\n",
       "  </thead>\n",
       "  <tbody>\n",
       "    <tr>\n",
       "      <th>0</th>\n",
       "      <td>København</td>\n",
       "      <td>13 267</td>\n",
       "      <td>0</td>\n",
       "      <td>37 149</td>\n",
       "      <td>552</td>\n",
       "      <td>46 656</td>\n",
       "      <td>14 161</td>\n",
       "      <td>35 547</td>\n",
       "      <td>16 102</td>\n",
       "      <td>23 775</td>\n",
       "      <td>9 644</td>\n",
       "    </tr>\n",
       "    <tr>\n",
       "      <th>1</th>\n",
       "      <td>Frederiksberg</td>\n",
       "      <td>2 306</td>\n",
       "      <td>0</td>\n",
       "      <td>5 164</td>\n",
       "      <td>74</td>\n",
       "      <td>5 697</td>\n",
       "      <td>2 092</td>\n",
       "      <td>4 442</td>\n",
       "      <td>2 307</td>\n",
       "      <td>3 334</td>\n",
       "      <td>1 594</td>\n",
       "    </tr>\n",
       "    <tr>\n",
       "      <th>2</th>\n",
       "      <td>Dragør</td>\n",
       "      <td>429</td>\n",
       "      <td>0</td>\n",
       "      <td>172</td>\n",
       "      <td>1</td>\n",
       "      <td>176</td>\n",
       "      <td>20</td>\n",
       "      <td>309</td>\n",
       "      <td>94</td>\n",
       "      <td>418</td>\n",
       "      <td>134</td>\n",
       "    </tr>\n",
       "    <tr>\n",
       "      <th>3</th>\n",
       "      <td>Tårnby</td>\n",
       "      <td>1 189</td>\n",
       "      <td>0</td>\n",
       "      <td>865</td>\n",
       "      <td>5</td>\n",
       "      <td>904</td>\n",
       "      <td>94</td>\n",
       "      <td>1 248</td>\n",
       "      <td>255</td>\n",
       "      <td>1 388</td>\n",
       "      <td>298</td>\n",
       "    </tr>\n",
       "    <tr>\n",
       "      <th>4</th>\n",
       "      <td>Albertslund</td>\n",
       "      <td>818</td>\n",
       "      <td>0</td>\n",
       "      <td>952</td>\n",
       "      <td>9</td>\n",
       "      <td>867</td>\n",
       "      <td>97</td>\n",
       "      <td>839</td>\n",
       "      <td>119</td>\n",
       "      <td>785</td>\n",
       "      <td>127</td>\n",
       "    </tr>\n",
       "  </tbody>\n",
       "</table>\n",
       "</div>"
      ],
      "text/plain": [
       "            2021 I alt (15-19 år)   15-19 år I alt (20-24 år)  20-24 år  \\\n",
       "0      København            13 267         0           37 149       552   \n",
       "1  Frederiksberg             2 306         0            5 164        74   \n",
       "2         Dragør               429         0              172         1   \n",
       "3         Tårnby             1 189         0              865         5   \n",
       "4    Albertslund               818         0              952         9   \n",
       "\n",
       "  I alt (25-29 år) 25-29 år I alt (30-34 år) 30-34 år I alt (35-39 år)  \\\n",
       "0           46 656   14 161           35 547   16 102           23 775   \n",
       "1            5 697    2 092            4 442    2 307            3 334   \n",
       "2              176       20              309       94              418   \n",
       "3              904       94            1 248      255            1 388   \n",
       "4              867       97              839      119              785   \n",
       "\n",
       "  35-39 år  \n",
       "0    9 644  \n",
       "1    1 594  \n",
       "2      134  \n",
       "3      298  \n",
       "4      127  "
      ]
     },
     "execution_count": 10,
     "metadata": {},
     "output_type": "execute_result"
    }
   ],
   "source": [
    "data_edu.head()"
   ]
  },
  {
   "cell_type": "code",
   "execution_count": 11,
   "metadata": {},
   "outputs": [],
   "source": [
    "# deal with type (to float)\n",
    "columns_to_process = data_edu.columns[1:]\n",
    "for column in columns_to_process:\n",
    "    data_edu[column] = data_edu[column].apply(lambda x: float(x.replace(' ', '')) if isinstance(x, str) else x)\n"
   ]
  },
  {
   "cell_type": "code",
   "execution_count": 12,
   "metadata": {},
   "outputs": [],
   "source": [
    "# sum all 'I alt' and sum all age groups and then take the percentage i.e. how many women in perc (age 15-39) have master or above and round it\n",
    "data_edu['Sum_alt']=data_edu.iloc[:,[1,3,5,7,9]].sum(axis=1)\n",
    "data_edu['Sum_master']=data_edu.iloc[:,[2,4,6,8,10]].sum(axis=1)\n",
    "data_edu['master_perc'] = round(data_edu['Sum_master'] * 100 / data_edu['Sum_alt'], 2)"
   ]
  },
  {
   "cell_type": "code",
   "execution_count": 13,
   "metadata": {},
   "outputs": [],
   "source": [
    "data_edu.rename(columns = {2021:'municipality_nm'}, inplace = True)"
   ]
  },
  {
   "cell_type": "code",
   "execution_count": 14,
   "metadata": {},
   "outputs": [
    {
     "data": {
      "text/html": [
       "<div>\n",
       "<style scoped>\n",
       "    .dataframe tbody tr th:only-of-type {\n",
       "        vertical-align: middle;\n",
       "    }\n",
       "\n",
       "    .dataframe tbody tr th {\n",
       "        vertical-align: top;\n",
       "    }\n",
       "\n",
       "    .dataframe thead th {\n",
       "        text-align: right;\n",
       "    }\n",
       "</style>\n",
       "<table border=\"1\" class=\"dataframe\">\n",
       "  <thead>\n",
       "    <tr style=\"text-align: right;\">\n",
       "      <th></th>\n",
       "      <th>municipality_nm</th>\n",
       "      <th>I alt (15-19 år)</th>\n",
       "      <th>15-19 år</th>\n",
       "      <th>I alt (20-24 år)</th>\n",
       "      <th>20-24 år</th>\n",
       "      <th>I alt (25-29 år)</th>\n",
       "      <th>25-29 år</th>\n",
       "      <th>I alt (30-34 år)</th>\n",
       "      <th>30-34 år</th>\n",
       "      <th>I alt (35-39 år)</th>\n",
       "      <th>35-39 år</th>\n",
       "      <th>Sum_alt</th>\n",
       "      <th>Sum_master</th>\n",
       "      <th>master_perc</th>\n",
       "    </tr>\n",
       "  </thead>\n",
       "  <tbody>\n",
       "    <tr>\n",
       "      <th>0</th>\n",
       "      <td>København</td>\n",
       "      <td>13267.0</td>\n",
       "      <td>0</td>\n",
       "      <td>37149.0</td>\n",
       "      <td>552</td>\n",
       "      <td>46656.0</td>\n",
       "      <td>14161.0</td>\n",
       "      <td>35547.0</td>\n",
       "      <td>16102.0</td>\n",
       "      <td>23775.0</td>\n",
       "      <td>9644.0</td>\n",
       "      <td>156394.0</td>\n",
       "      <td>40459.0</td>\n",
       "      <td>25.87</td>\n",
       "    </tr>\n",
       "    <tr>\n",
       "      <th>1</th>\n",
       "      <td>Frederiksberg</td>\n",
       "      <td>2306.0</td>\n",
       "      <td>0</td>\n",
       "      <td>5164.0</td>\n",
       "      <td>74</td>\n",
       "      <td>5697.0</td>\n",
       "      <td>2092.0</td>\n",
       "      <td>4442.0</td>\n",
       "      <td>2307.0</td>\n",
       "      <td>3334.0</td>\n",
       "      <td>1594.0</td>\n",
       "      <td>20943.0</td>\n",
       "      <td>6067.0</td>\n",
       "      <td>28.97</td>\n",
       "    </tr>\n",
       "    <tr>\n",
       "      <th>2</th>\n",
       "      <td>Dragør</td>\n",
       "      <td>429.0</td>\n",
       "      <td>0</td>\n",
       "      <td>172.0</td>\n",
       "      <td>1</td>\n",
       "      <td>176.0</td>\n",
       "      <td>20.0</td>\n",
       "      <td>309.0</td>\n",
       "      <td>94.0</td>\n",
       "      <td>418.0</td>\n",
       "      <td>134.0</td>\n",
       "      <td>1504.0</td>\n",
       "      <td>249.0</td>\n",
       "      <td>16.56</td>\n",
       "    </tr>\n",
       "    <tr>\n",
       "      <th>3</th>\n",
       "      <td>Tårnby</td>\n",
       "      <td>1189.0</td>\n",
       "      <td>0</td>\n",
       "      <td>865.0</td>\n",
       "      <td>5</td>\n",
       "      <td>904.0</td>\n",
       "      <td>94.0</td>\n",
       "      <td>1248.0</td>\n",
       "      <td>255.0</td>\n",
       "      <td>1388.0</td>\n",
       "      <td>298.0</td>\n",
       "      <td>5594.0</td>\n",
       "      <td>652.0</td>\n",
       "      <td>11.66</td>\n",
       "    </tr>\n",
       "    <tr>\n",
       "      <th>4</th>\n",
       "      <td>Albertslund</td>\n",
       "      <td>818.0</td>\n",
       "      <td>0</td>\n",
       "      <td>952.0</td>\n",
       "      <td>9</td>\n",
       "      <td>867.0</td>\n",
       "      <td>97.0</td>\n",
       "      <td>839.0</td>\n",
       "      <td>119.0</td>\n",
       "      <td>785.0</td>\n",
       "      <td>127.0</td>\n",
       "      <td>4261.0</td>\n",
       "      <td>352.0</td>\n",
       "      <td>8.26</td>\n",
       "    </tr>\n",
       "  </tbody>\n",
       "</table>\n",
       "</div>"
      ],
      "text/plain": [
       "  municipality_nm  I alt (15-19 år)   15-19 år  I alt (20-24 år)  20-24 år  \\\n",
       "0       København            13267.0         0           37149.0       552   \n",
       "1   Frederiksberg             2306.0         0            5164.0        74   \n",
       "2          Dragør              429.0         0             172.0         1   \n",
       "3          Tårnby             1189.0         0             865.0         5   \n",
       "4     Albertslund              818.0         0             952.0         9   \n",
       "\n",
       "   I alt (25-29 år)  25-29 år  I alt (30-34 år)  30-34 år  I alt (35-39 år)  \\\n",
       "0           46656.0   14161.0           35547.0   16102.0           23775.0   \n",
       "1            5697.0    2092.0            4442.0    2307.0            3334.0   \n",
       "2             176.0      20.0             309.0      94.0             418.0   \n",
       "3             904.0      94.0            1248.0     255.0            1388.0   \n",
       "4             867.0      97.0             839.0     119.0             785.0   \n",
       "\n",
       "   35-39 år   Sum_alt  Sum_master  master_perc  \n",
       "0    9644.0  156394.0     40459.0        25.87  \n",
       "1    1594.0   20943.0      6067.0        28.97  \n",
       "2     134.0    1504.0       249.0        16.56  \n",
       "3     298.0    5594.0       652.0        11.66  \n",
       "4     127.0    4261.0       352.0         8.26  "
      ]
     },
     "execution_count": 14,
     "metadata": {},
     "output_type": "execute_result"
    }
   ],
   "source": [
    "data_edu.head()"
   ]
  },
  {
   "cell_type": "markdown",
   "metadata": {},
   "source": [
    "### disposable income\n"
   ]
  },
  {
   "cell_type": "code",
   "execution_count": 15,
   "metadata": {},
   "outputs": [
    {
     "data": {
      "text/html": [
       "<div>\n",
       "<style scoped>\n",
       "    .dataframe tbody tr th:only-of-type {\n",
       "        vertical-align: middle;\n",
       "    }\n",
       "\n",
       "    .dataframe tbody tr th {\n",
       "        vertical-align: top;\n",
       "    }\n",
       "\n",
       "    .dataframe thead th {\n",
       "        text-align: right;\n",
       "    }\n",
       "</style>\n",
       "<table border=\"1\" class=\"dataframe\">\n",
       "  <thead>\n",
       "    <tr style=\"text-align: right;\">\n",
       "      <th></th>\n",
       "      <th>Unnamed: 0</th>\n",
       "      <th>2021</th>\n",
       "    </tr>\n",
       "  </thead>\n",
       "  <tbody>\n",
       "    <tr>\n",
       "      <th>0</th>\n",
       "      <td>København</td>\n",
       "      <td>263 154</td>\n",
       "    </tr>\n",
       "    <tr>\n",
       "      <th>1</th>\n",
       "      <td>Frederiksberg</td>\n",
       "      <td>319 321</td>\n",
       "    </tr>\n",
       "    <tr>\n",
       "      <th>2</th>\n",
       "      <td>Dragør</td>\n",
       "      <td>350 841</td>\n",
       "    </tr>\n",
       "    <tr>\n",
       "      <th>3</th>\n",
       "      <td>Tårnby</td>\n",
       "      <td>275 721</td>\n",
       "    </tr>\n",
       "    <tr>\n",
       "      <th>4</th>\n",
       "      <td>Albertslund</td>\n",
       "      <td>230 832</td>\n",
       "    </tr>\n",
       "    <tr>\n",
       "      <th>...</th>\n",
       "      <td>...</td>\n",
       "      <td>...</td>\n",
       "    </tr>\n",
       "    <tr>\n",
       "      <th>93</th>\n",
       "      <td>Morsø</td>\n",
       "      <td>229 968</td>\n",
       "    </tr>\n",
       "    <tr>\n",
       "      <th>94</th>\n",
       "      <td>Rebild</td>\n",
       "      <td>270 439</td>\n",
       "    </tr>\n",
       "    <tr>\n",
       "      <th>95</th>\n",
       "      <td>Thisted</td>\n",
       "      <td>241 755</td>\n",
       "    </tr>\n",
       "    <tr>\n",
       "      <th>96</th>\n",
       "      <td>Vesthimmerlands</td>\n",
       "      <td>244 219</td>\n",
       "    </tr>\n",
       "    <tr>\n",
       "      <th>97</th>\n",
       "      <td>Aalborg</td>\n",
       "      <td>244 344</td>\n",
       "    </tr>\n",
       "  </tbody>\n",
       "</table>\n",
       "<p>98 rows × 2 columns</p>\n",
       "</div>"
      ],
      "text/plain": [
       "         Unnamed: 0     2021\n",
       "0         København  263 154\n",
       "1     Frederiksberg  319 321\n",
       "2            Dragør  350 841\n",
       "3            Tårnby  275 721\n",
       "4       Albertslund  230 832\n",
       "..              ...      ...\n",
       "93            Morsø  229 968\n",
       "94           Rebild  270 439\n",
       "95          Thisted  241 755\n",
       "96  Vesthimmerlands  244 219\n",
       "97          Aalborg  244 344\n",
       "\n",
       "[98 rows x 2 columns]"
      ]
     },
     "execution_count": 15,
     "metadata": {},
     "output_type": "execute_result"
    }
   ],
   "source": [
    "# disposable income (average for men and women)\n",
    "data_inc"
   ]
  },
  {
   "cell_type": "code",
   "execution_count": 16,
   "metadata": {},
   "outputs": [],
   "source": [
    "data_inc[2021] = data_inc[2021].str.replace(' ', '').astype(float)"
   ]
  },
  {
   "cell_type": "code",
   "execution_count": 17,
   "metadata": {},
   "outputs": [],
   "source": [
    "# rename\n",
    "data_inc.rename(columns = {'Unnamed: 0':'municipality_nm', 2021:'disp_income_avg_k'}, inplace = True)"
   ]
  },
  {
   "cell_type": "code",
   "execution_count": 18,
   "metadata": {},
   "outputs": [],
   "source": [
    "# show in thousands and round the number\n",
    "data_inc['disp_income_avg_k'] = round(data_inc['disp_income_avg_k']/1000, 2)"
   ]
  },
  {
   "cell_type": "code",
   "execution_count": 19,
   "metadata": {},
   "outputs": [
    {
     "data": {
      "text/html": [
       "<div>\n",
       "<style scoped>\n",
       "    .dataframe tbody tr th:only-of-type {\n",
       "        vertical-align: middle;\n",
       "    }\n",
       "\n",
       "    .dataframe tbody tr th {\n",
       "        vertical-align: top;\n",
       "    }\n",
       "\n",
       "    .dataframe thead th {\n",
       "        text-align: right;\n",
       "    }\n",
       "</style>\n",
       "<table border=\"1\" class=\"dataframe\">\n",
       "  <thead>\n",
       "    <tr style=\"text-align: right;\">\n",
       "      <th></th>\n",
       "      <th>municipality_nm</th>\n",
       "      <th>disp_income_avg_k</th>\n",
       "    </tr>\n",
       "  </thead>\n",
       "  <tbody>\n",
       "    <tr>\n",
       "      <th>0</th>\n",
       "      <td>København</td>\n",
       "      <td>263.15</td>\n",
       "    </tr>\n",
       "    <tr>\n",
       "      <th>1</th>\n",
       "      <td>Frederiksberg</td>\n",
       "      <td>319.32</td>\n",
       "    </tr>\n",
       "    <tr>\n",
       "      <th>2</th>\n",
       "      <td>Dragør</td>\n",
       "      <td>350.84</td>\n",
       "    </tr>\n",
       "    <tr>\n",
       "      <th>3</th>\n",
       "      <td>Tårnby</td>\n",
       "      <td>275.72</td>\n",
       "    </tr>\n",
       "    <tr>\n",
       "      <th>4</th>\n",
       "      <td>Albertslund</td>\n",
       "      <td>230.83</td>\n",
       "    </tr>\n",
       "  </tbody>\n",
       "</table>\n",
       "</div>"
      ],
      "text/plain": [
       "  municipality_nm  disp_income_avg_k\n",
       "0       København             263.15\n",
       "1   Frederiksberg             319.32\n",
       "2          Dragør             350.84\n",
       "3          Tårnby             275.72\n",
       "4     Albertslund             230.83"
      ]
     },
     "execution_count": 19,
     "metadata": {},
     "output_type": "execute_result"
    }
   ],
   "source": [
    "data_inc.head()"
   ]
  },
  {
   "cell_type": "markdown",
   "metadata": {},
   "source": [
    "### Dwellings"
   ]
  },
  {
   "cell_type": "code",
   "execution_count": 20,
   "metadata": {},
   "outputs": [
    {
     "data": {
      "text/html": [
       "<div>\n",
       "<style scoped>\n",
       "    .dataframe tbody tr th:only-of-type {\n",
       "        vertical-align: middle;\n",
       "    }\n",
       "\n",
       "    .dataframe tbody tr th {\n",
       "        vertical-align: top;\n",
       "    }\n",
       "\n",
       "    .dataframe thead th {\n",
       "        text-align: right;\n",
       "    }\n",
       "</style>\n",
       "<table border=\"1\" class=\"dataframe\">\n",
       "  <thead>\n",
       "    <tr style=\"text-align: right;\">\n",
       "      <th></th>\n",
       "      <th>2021</th>\n",
       "      <th>- 50 kvm</th>\n",
       "      <th>50-74 kvm</th>\n",
       "      <th>75-99 kvm</th>\n",
       "      <th>100-124 kvm</th>\n",
       "      <th>125-149 kvm</th>\n",
       "      <th>150-174 kvm</th>\n",
       "      <th>175 kvm og derover</th>\n",
       "      <th>Uoplyst</th>\n",
       "    </tr>\n",
       "  </thead>\n",
       "  <tbody>\n",
       "    <tr>\n",
       "      <th>0</th>\n",
       "      <td>København</td>\n",
       "      <td>34 050</td>\n",
       "      <td>120 748</td>\n",
       "      <td>84 785</td>\n",
       "      <td>41 034</td>\n",
       "      <td>18 102</td>\n",
       "      <td>7 823</td>\n",
       "      <td>6 859</td>\n",
       "      <td>405</td>\n",
       "    </tr>\n",
       "    <tr>\n",
       "      <th>1</th>\n",
       "      <td>Frederiksberg</td>\n",
       "      <td>4 254</td>\n",
       "      <td>16 871</td>\n",
       "      <td>16 592</td>\n",
       "      <td>8 050</td>\n",
       "      <td>3 939</td>\n",
       "      <td>1 974</td>\n",
       "      <td>2 075</td>\n",
       "      <td>28</td>\n",
       "    </tr>\n",
       "    <tr>\n",
       "      <th>2</th>\n",
       "      <td>Dragør</td>\n",
       "      <td>172</td>\n",
       "      <td>694</td>\n",
       "      <td>1 074</td>\n",
       "      <td>1 043</td>\n",
       "      <td>1 372</td>\n",
       "      <td>910</td>\n",
       "      <td>832</td>\n",
       "      <td>7</td>\n",
       "    </tr>\n",
       "    <tr>\n",
       "      <th>3</th>\n",
       "      <td>Tårnby</td>\n",
       "      <td>1 187</td>\n",
       "      <td>4 472</td>\n",
       "      <td>5 443</td>\n",
       "      <td>3 139</td>\n",
       "      <td>2 494</td>\n",
       "      <td>1 398</td>\n",
       "      <td>715</td>\n",
       "      <td>7</td>\n",
       "    </tr>\n",
       "    <tr>\n",
       "      <th>4</th>\n",
       "      <td>Albertslund</td>\n",
       "      <td>1 899</td>\n",
       "      <td>1 639</td>\n",
       "      <td>3 599</td>\n",
       "      <td>3 027</td>\n",
       "      <td>1 322</td>\n",
       "      <td>648</td>\n",
       "      <td>236</td>\n",
       "      <td>2</td>\n",
       "    </tr>\n",
       "    <tr>\n",
       "      <th>...</th>\n",
       "      <td>...</td>\n",
       "      <td>...</td>\n",
       "      <td>...</td>\n",
       "      <td>...</td>\n",
       "      <td>...</td>\n",
       "      <td>...</td>\n",
       "      <td>...</td>\n",
       "      <td>...</td>\n",
       "      <td>...</td>\n",
       "    </tr>\n",
       "    <tr>\n",
       "      <th>94</th>\n",
       "      <td>Morsø</td>\n",
       "      <td>254</td>\n",
       "      <td>1 415</td>\n",
       "      <td>1 570</td>\n",
       "      <td>1 643</td>\n",
       "      <td>1 683</td>\n",
       "      <td>1 323</td>\n",
       "      <td>2 060</td>\n",
       "      <td>4</td>\n",
       "    </tr>\n",
       "    <tr>\n",
       "      <th>95</th>\n",
       "      <td>Rebild</td>\n",
       "      <td>192</td>\n",
       "      <td>980</td>\n",
       "      <td>1 821</td>\n",
       "      <td>2 106</td>\n",
       "      <td>2 238</td>\n",
       "      <td>2 259</td>\n",
       "      <td>3 430</td>\n",
       "      <td>26</td>\n",
       "    </tr>\n",
       "    <tr>\n",
       "      <th>96</th>\n",
       "      <td>Thisted</td>\n",
       "      <td>459</td>\n",
       "      <td>2 298</td>\n",
       "      <td>3 601</td>\n",
       "      <td>3 286</td>\n",
       "      <td>3 307</td>\n",
       "      <td>3 015</td>\n",
       "      <td>4 543</td>\n",
       "      <td>3</td>\n",
       "    </tr>\n",
       "    <tr>\n",
       "      <th>97</th>\n",
       "      <td>Vesthimmerlands</td>\n",
       "      <td>454</td>\n",
       "      <td>1 756</td>\n",
       "      <td>2 999</td>\n",
       "      <td>2 904</td>\n",
       "      <td>3 024</td>\n",
       "      <td>2 479</td>\n",
       "      <td>3 731</td>\n",
       "      <td>8</td>\n",
       "    </tr>\n",
       "    <tr>\n",
       "      <th>98</th>\n",
       "      <td>Aalborg</td>\n",
       "      <td>7 259</td>\n",
       "      <td>27 226</td>\n",
       "      <td>26 622</td>\n",
       "      <td>17 549</td>\n",
       "      <td>12 248</td>\n",
       "      <td>9 414</td>\n",
       "      <td>10 408</td>\n",
       "      <td>87</td>\n",
       "    </tr>\n",
       "  </tbody>\n",
       "</table>\n",
       "<p>99 rows × 9 columns</p>\n",
       "</div>"
      ],
      "text/plain": [
       "               2021 - 50 kvm 50-74 kvm 75-99 kvm 100-124 kvm 125-149 kvm  \\\n",
       "0         København   34 050   120 748    84 785      41 034      18 102   \n",
       "1     Frederiksberg    4 254    16 871    16 592       8 050       3 939   \n",
       "2            Dragør      172       694     1 074       1 043       1 372   \n",
       "3            Tårnby    1 187     4 472     5 443       3 139       2 494   \n",
       "4       Albertslund    1 899     1 639     3 599       3 027       1 322   \n",
       "..              ...      ...       ...       ...         ...         ...   \n",
       "94            Morsø      254     1 415     1 570       1 643       1 683   \n",
       "95           Rebild      192       980     1 821       2 106       2 238   \n",
       "96          Thisted      459     2 298     3 601       3 286       3 307   \n",
       "97  Vesthimmerlands      454     1 756     2 999       2 904       3 024   \n",
       "98          Aalborg    7 259    27 226    26 622      17 549      12 248   \n",
       "\n",
       "   150-174 kvm 175 kvm og derover  Uoplyst  \n",
       "0        7 823              6 859      405  \n",
       "1        1 974              2 075       28  \n",
       "2          910                832        7  \n",
       "3        1 398                715        7  \n",
       "4          648                236        2  \n",
       "..         ...                ...      ...  \n",
       "94       1 323              2 060        4  \n",
       "95       2 259              3 430       26  \n",
       "96       3 015              4 543        3  \n",
       "97       2 479              3 731        8  \n",
       "98       9 414             10 408       87  \n",
       "\n",
       "[99 rows x 9 columns]"
      ]
     },
     "execution_count": 20,
     "metadata": {},
     "output_type": "execute_result"
    }
   ],
   "source": [
    "data_dwe"
   ]
  },
  {
   "cell_type": "code",
   "execution_count": 21,
   "metadata": {},
   "outputs": [],
   "source": [
    "# square meters of dwelling per household in each municipality, \n",
    "# but we are gonna make a new variable - perc. of people in the municipality with the dweling more than 74 square meters. The missing\n",
    "# data will be removed (Uoplyst):\n",
    "data_dwe.drop(['Uoplyst'], inplace = True, axis = 1)"
   ]
  },
  {
   "cell_type": "code",
   "execution_count": 22,
   "metadata": {},
   "outputs": [],
   "source": [
    "# deal with type (to float)\n",
    "columns_to_process = data_dwe.columns[1:]\n",
    "for column in columns_to_process:\n",
    "    data_dwe[column] = data_dwe[column].apply(lambda x: float(x.replace(' ', '')) if isinstance(x, str) else x)"
   ]
  },
  {
   "cell_type": "code",
   "execution_count": 23,
   "metadata": {},
   "outputs": [],
   "source": [
    "# sum all 'I alt' and sum all age groups and then take the percentage i.e. how many women in perc (age 15-39) have master or above\n",
    "data_dwe['Sum_total'] = data_dwe.iloc[:,1:].sum(axis=1)\n",
    "data_dwe['Sum_more_than_74'] = data_dwe.iloc[:,3:7].sum(axis=1)\n",
    "data_dwe['dwelling_above_74_perc'] = round(data_dwe['Sum_more_than_74'] * 100 / data_dwe['Sum_total'], 2)"
   ]
  },
  {
   "cell_type": "code",
   "execution_count": 24,
   "metadata": {},
   "outputs": [],
   "source": [
    "# rename\n",
    "data_dwe.rename(columns = {2021:'municipality_nm'}, inplace = True)"
   ]
  },
  {
   "cell_type": "code",
   "execution_count": 25,
   "metadata": {},
   "outputs": [
    {
     "data": {
      "text/html": [
       "<div>\n",
       "<style scoped>\n",
       "    .dataframe tbody tr th:only-of-type {\n",
       "        vertical-align: middle;\n",
       "    }\n",
       "\n",
       "    .dataframe tbody tr th {\n",
       "        vertical-align: top;\n",
       "    }\n",
       "\n",
       "    .dataframe thead th {\n",
       "        text-align: right;\n",
       "    }\n",
       "</style>\n",
       "<table border=\"1\" class=\"dataframe\">\n",
       "  <thead>\n",
       "    <tr style=\"text-align: right;\">\n",
       "      <th></th>\n",
       "      <th>municipality_nm</th>\n",
       "      <th>- 50 kvm</th>\n",
       "      <th>50-74 kvm</th>\n",
       "      <th>75-99 kvm</th>\n",
       "      <th>100-124 kvm</th>\n",
       "      <th>125-149 kvm</th>\n",
       "      <th>150-174 kvm</th>\n",
       "      <th>175 kvm og derover</th>\n",
       "      <th>Sum_total</th>\n",
       "      <th>Sum_more_than_74</th>\n",
       "      <th>dwelling_above_74_perc</th>\n",
       "    </tr>\n",
       "  </thead>\n",
       "  <tbody>\n",
       "    <tr>\n",
       "      <th>0</th>\n",
       "      <td>København</td>\n",
       "      <td>34050.0</td>\n",
       "      <td>120748.0</td>\n",
       "      <td>84785.0</td>\n",
       "      <td>41034.0</td>\n",
       "      <td>18102.0</td>\n",
       "      <td>7823.0</td>\n",
       "      <td>6859.0</td>\n",
       "      <td>313401.0</td>\n",
       "      <td>151744.0</td>\n",
       "      <td>48.42</td>\n",
       "    </tr>\n",
       "    <tr>\n",
       "      <th>1</th>\n",
       "      <td>Frederiksberg</td>\n",
       "      <td>4254.0</td>\n",
       "      <td>16871.0</td>\n",
       "      <td>16592.0</td>\n",
       "      <td>8050.0</td>\n",
       "      <td>3939.0</td>\n",
       "      <td>1974.0</td>\n",
       "      <td>2075.0</td>\n",
       "      <td>53755.0</td>\n",
       "      <td>30555.0</td>\n",
       "      <td>56.84</td>\n",
       "    </tr>\n",
       "    <tr>\n",
       "      <th>2</th>\n",
       "      <td>Dragør</td>\n",
       "      <td>172.0</td>\n",
       "      <td>694.0</td>\n",
       "      <td>1074.0</td>\n",
       "      <td>1043.0</td>\n",
       "      <td>1372.0</td>\n",
       "      <td>910.0</td>\n",
       "      <td>832.0</td>\n",
       "      <td>6097.0</td>\n",
       "      <td>4399.0</td>\n",
       "      <td>72.15</td>\n",
       "    </tr>\n",
       "    <tr>\n",
       "      <th>3</th>\n",
       "      <td>Tårnby</td>\n",
       "      <td>1187.0</td>\n",
       "      <td>4472.0</td>\n",
       "      <td>5443.0</td>\n",
       "      <td>3139.0</td>\n",
       "      <td>2494.0</td>\n",
       "      <td>1398.0</td>\n",
       "      <td>715.0</td>\n",
       "      <td>18848.0</td>\n",
       "      <td>12474.0</td>\n",
       "      <td>66.18</td>\n",
       "    </tr>\n",
       "    <tr>\n",
       "      <th>4</th>\n",
       "      <td>Albertslund</td>\n",
       "      <td>1899.0</td>\n",
       "      <td>1639.0</td>\n",
       "      <td>3599.0</td>\n",
       "      <td>3027.0</td>\n",
       "      <td>1322.0</td>\n",
       "      <td>648.0</td>\n",
       "      <td>236.0</td>\n",
       "      <td>12370.0</td>\n",
       "      <td>8596.0</td>\n",
       "      <td>69.49</td>\n",
       "    </tr>\n",
       "    <tr>\n",
       "      <th>...</th>\n",
       "      <td>...</td>\n",
       "      <td>...</td>\n",
       "      <td>...</td>\n",
       "      <td>...</td>\n",
       "      <td>...</td>\n",
       "      <td>...</td>\n",
       "      <td>...</td>\n",
       "      <td>...</td>\n",
       "      <td>...</td>\n",
       "      <td>...</td>\n",
       "      <td>...</td>\n",
       "    </tr>\n",
       "    <tr>\n",
       "      <th>94</th>\n",
       "      <td>Morsø</td>\n",
       "      <td>254.0</td>\n",
       "      <td>1415.0</td>\n",
       "      <td>1570.0</td>\n",
       "      <td>1643.0</td>\n",
       "      <td>1683.0</td>\n",
       "      <td>1323.0</td>\n",
       "      <td>2060.0</td>\n",
       "      <td>9948.0</td>\n",
       "      <td>6219.0</td>\n",
       "      <td>62.52</td>\n",
       "    </tr>\n",
       "    <tr>\n",
       "      <th>95</th>\n",
       "      <td>Rebild</td>\n",
       "      <td>192.0</td>\n",
       "      <td>980.0</td>\n",
       "      <td>1821.0</td>\n",
       "      <td>2106.0</td>\n",
       "      <td>2238.0</td>\n",
       "      <td>2259.0</td>\n",
       "      <td>3430.0</td>\n",
       "      <td>13026.0</td>\n",
       "      <td>8424.0</td>\n",
       "      <td>64.67</td>\n",
       "    </tr>\n",
       "    <tr>\n",
       "      <th>96</th>\n",
       "      <td>Thisted</td>\n",
       "      <td>459.0</td>\n",
       "      <td>2298.0</td>\n",
       "      <td>3601.0</td>\n",
       "      <td>3286.0</td>\n",
       "      <td>3307.0</td>\n",
       "      <td>3015.0</td>\n",
       "      <td>4543.0</td>\n",
       "      <td>20509.0</td>\n",
       "      <td>13209.0</td>\n",
       "      <td>64.41</td>\n",
       "    </tr>\n",
       "    <tr>\n",
       "      <th>97</th>\n",
       "      <td>Vesthimmerlands</td>\n",
       "      <td>454.0</td>\n",
       "      <td>1756.0</td>\n",
       "      <td>2999.0</td>\n",
       "      <td>2904.0</td>\n",
       "      <td>3024.0</td>\n",
       "      <td>2479.0</td>\n",
       "      <td>3731.0</td>\n",
       "      <td>17347.0</td>\n",
       "      <td>11406.0</td>\n",
       "      <td>65.75</td>\n",
       "    </tr>\n",
       "    <tr>\n",
       "      <th>98</th>\n",
       "      <td>Aalborg</td>\n",
       "      <td>7259.0</td>\n",
       "      <td>27226.0</td>\n",
       "      <td>26622.0</td>\n",
       "      <td>17549.0</td>\n",
       "      <td>12248.0</td>\n",
       "      <td>9414.0</td>\n",
       "      <td>10408.0</td>\n",
       "      <td>110726.0</td>\n",
       "      <td>65833.0</td>\n",
       "      <td>59.46</td>\n",
       "    </tr>\n",
       "  </tbody>\n",
       "</table>\n",
       "<p>99 rows × 11 columns</p>\n",
       "</div>"
      ],
      "text/plain": [
       "    municipality_nm  - 50 kvm  50-74 kvm  75-99 kvm  100-124 kvm  125-149 kvm  \\\n",
       "0         København   34050.0   120748.0    84785.0      41034.0      18102.0   \n",
       "1     Frederiksberg    4254.0    16871.0    16592.0       8050.0       3939.0   \n",
       "2            Dragør     172.0      694.0     1074.0       1043.0       1372.0   \n",
       "3            Tårnby    1187.0     4472.0     5443.0       3139.0       2494.0   \n",
       "4       Albertslund    1899.0     1639.0     3599.0       3027.0       1322.0   \n",
       "..              ...       ...        ...        ...          ...          ...   \n",
       "94            Morsø     254.0     1415.0     1570.0       1643.0       1683.0   \n",
       "95           Rebild     192.0      980.0     1821.0       2106.0       2238.0   \n",
       "96          Thisted     459.0     2298.0     3601.0       3286.0       3307.0   \n",
       "97  Vesthimmerlands     454.0     1756.0     2999.0       2904.0       3024.0   \n",
       "98          Aalborg    7259.0    27226.0    26622.0      17549.0      12248.0   \n",
       "\n",
       "    150-174 kvm  175 kvm og derover  Sum_total  Sum_more_than_74  \\\n",
       "0        7823.0              6859.0   313401.0          151744.0   \n",
       "1        1974.0              2075.0    53755.0           30555.0   \n",
       "2         910.0               832.0     6097.0            4399.0   \n",
       "3        1398.0               715.0    18848.0           12474.0   \n",
       "4         648.0               236.0    12370.0            8596.0   \n",
       "..          ...                 ...        ...               ...   \n",
       "94       1323.0              2060.0     9948.0            6219.0   \n",
       "95       2259.0              3430.0    13026.0            8424.0   \n",
       "96       3015.0              4543.0    20509.0           13209.0   \n",
       "97       2479.0              3731.0    17347.0           11406.0   \n",
       "98       9414.0             10408.0   110726.0           65833.0   \n",
       "\n",
       "    dwelling_above_74_perc  \n",
       "0                    48.42  \n",
       "1                    56.84  \n",
       "2                    72.15  \n",
       "3                    66.18  \n",
       "4                    69.49  \n",
       "..                     ...  \n",
       "94                   62.52  \n",
       "95                   64.67  \n",
       "96                   64.41  \n",
       "97                   65.75  \n",
       "98                   59.46  \n",
       "\n",
       "[99 rows x 11 columns]"
      ]
     },
     "execution_count": 25,
     "metadata": {},
     "output_type": "execute_result"
    }
   ],
   "source": [
    "data_dwe"
   ]
  },
  {
   "cell_type": "markdown",
   "metadata": {},
   "source": [
    "### wealth"
   ]
  },
  {
   "cell_type": "code",
   "execution_count": 26,
   "metadata": {},
   "outputs": [
    {
     "data": {
      "text/html": [
       "<div>\n",
       "<style scoped>\n",
       "    .dataframe tbody tr th:only-of-type {\n",
       "        vertical-align: middle;\n",
       "    }\n",
       "\n",
       "    .dataframe tbody tr th {\n",
       "        vertical-align: top;\n",
       "    }\n",
       "\n",
       "    .dataframe thead th {\n",
       "        text-align: right;\n",
       "    }\n",
       "</style>\n",
       "<table border=\"1\" class=\"dataframe\">\n",
       "  <thead>\n",
       "    <tr style=\"text-align: right;\">\n",
       "      <th></th>\n",
       "      <th>Unnamed: 0</th>\n",
       "      <th>2021</th>\n",
       "    </tr>\n",
       "  </thead>\n",
       "  <tbody>\n",
       "    <tr>\n",
       "      <th>0</th>\n",
       "      <td>København</td>\n",
       "      <td>3 629 877</td>\n",
       "    </tr>\n",
       "    <tr>\n",
       "      <th>1</th>\n",
       "      <td>Frederiksberg</td>\n",
       "      <td>4 487 733</td>\n",
       "    </tr>\n",
       "    <tr>\n",
       "      <th>2</th>\n",
       "      <td>Dragør</td>\n",
       "      <td>5 105 646</td>\n",
       "    </tr>\n",
       "    <tr>\n",
       "      <th>3</th>\n",
       "      <td>Tårnby</td>\n",
       "      <td>3 408 593</td>\n",
       "    </tr>\n",
       "    <tr>\n",
       "      <th>4</th>\n",
       "      <td>Albertslund</td>\n",
       "      <td>3 088 083</td>\n",
       "    </tr>\n",
       "    <tr>\n",
       "      <th>...</th>\n",
       "      <td>...</td>\n",
       "      <td>...</td>\n",
       "    </tr>\n",
       "    <tr>\n",
       "      <th>93</th>\n",
       "      <td>Morsø</td>\n",
       "      <td>1 903 637</td>\n",
       "    </tr>\n",
       "    <tr>\n",
       "      <th>94</th>\n",
       "      <td>Rebild</td>\n",
       "      <td>2 711 788</td>\n",
       "    </tr>\n",
       "    <tr>\n",
       "      <th>95</th>\n",
       "      <td>Thisted</td>\n",
       "      <td>2 119 288</td>\n",
       "    </tr>\n",
       "    <tr>\n",
       "      <th>96</th>\n",
       "      <td>Vesthimmerlands</td>\n",
       "      <td>2 261 126</td>\n",
       "    </tr>\n",
       "    <tr>\n",
       "      <th>97</th>\n",
       "      <td>Aalborg</td>\n",
       "      <td>2 750 395</td>\n",
       "    </tr>\n",
       "  </tbody>\n",
       "</table>\n",
       "<p>98 rows × 2 columns</p>\n",
       "</div>"
      ],
      "text/plain": [
       "         Unnamed: 0       2021\n",
       "0         København  3 629 877\n",
       "1     Frederiksberg  4 487 733\n",
       "2            Dragør  5 105 646\n",
       "3            Tårnby  3 408 593\n",
       "4       Albertslund  3 088 083\n",
       "..              ...        ...\n",
       "93            Morsø  1 903 637\n",
       "94           Rebild  2 711 788\n",
       "95          Thisted  2 119 288\n",
       "96  Vesthimmerlands  2 261 126\n",
       "97          Aalborg  2 750 395\n",
       "\n",
       "[98 rows x 2 columns]"
      ]
     },
     "execution_count": 26,
     "metadata": {},
     "output_type": "execute_result"
    }
   ],
   "source": [
    "data_wea"
   ]
  },
  {
   "cell_type": "code",
   "execution_count": 27,
   "metadata": {},
   "outputs": [],
   "source": [
    "data_wea[2021] = data_wea[2021].apply(lambda x: float(x.replace(' ', '')) if isinstance(x, str) else x)\n"
   ]
  },
  {
   "cell_type": "code",
   "execution_count": 28,
   "metadata": {},
   "outputs": [],
   "source": [
    "# rename\n",
    "data_wea.rename(columns = {'Unnamed: 0':'municipality_nm', 2021:'household_wealth_avg_k'}, inplace = True)"
   ]
  },
  {
   "cell_type": "code",
   "execution_count": 29,
   "metadata": {},
   "outputs": [],
   "source": [
    "# show in thousands and round the number\n",
    "data_wea['household_wealth_avg_k'] = round(data_wea['household_wealth_avg_k']/1000, 2)"
   ]
  },
  {
   "cell_type": "markdown",
   "metadata": {},
   "source": [
    "### create a final dataset"
   ]
  },
  {
   "cell_type": "code",
   "execution_count": 30,
   "metadata": {},
   "outputs": [],
   "source": [
    "geometries = gpd.read_file('Data/municipalities_dk.gpkg')"
   ]
  },
  {
   "cell_type": "code",
   "execution_count": 31,
   "metadata": {},
   "outputs": [
    {
     "data": {
      "text/html": [
       "<div>\n",
       "<style scoped>\n",
       "    .dataframe tbody tr th:only-of-type {\n",
       "        vertical-align: middle;\n",
       "    }\n",
       "\n",
       "    .dataframe tbody tr th {\n",
       "        vertical-align: top;\n",
       "    }\n",
       "\n",
       "    .dataframe thead th {\n",
       "        text-align: right;\n",
       "    }\n",
       "</style>\n",
       "<table border=\"1\" class=\"dataframe\">\n",
       "  <thead>\n",
       "    <tr style=\"text-align: right;\">\n",
       "      <th></th>\n",
       "      <th>municipality_nm</th>\n",
       "      <th>TFR</th>\n",
       "    </tr>\n",
       "  </thead>\n",
       "  <tbody>\n",
       "    <tr>\n",
       "      <th>0</th>\n",
       "      <td>Copenhagen</td>\n",
       "      <td>1.56</td>\n",
       "    </tr>\n",
       "    <tr>\n",
       "      <th>1</th>\n",
       "      <td>Frederiksberg</td>\n",
       "      <td>1.79</td>\n",
       "    </tr>\n",
       "    <tr>\n",
       "      <th>2</th>\n",
       "      <td>Dragør</td>\n",
       "      <td>2.51</td>\n",
       "    </tr>\n",
       "    <tr>\n",
       "      <th>3</th>\n",
       "      <td>Tårnby</td>\n",
       "      <td>2.06</td>\n",
       "    </tr>\n",
       "    <tr>\n",
       "      <th>4</th>\n",
       "      <td>Albertslund</td>\n",
       "      <td>1.61</td>\n",
       "    </tr>\n",
       "  </tbody>\n",
       "</table>\n",
       "</div>"
      ],
      "text/plain": [
       "  municipality_nm   TFR\n",
       "0      Copenhagen  1.56\n",
       "1   Frederiksberg  1.79\n",
       "2          Dragør  2.51\n",
       "3          Tårnby  2.06\n",
       "4     Albertslund  1.61"
      ]
     },
     "execution_count": 31,
     "metadata": {},
     "output_type": "execute_result"
    }
   ],
   "source": [
    "data_fer.head() # all\n",
    "#data_edu.head() # municipality_nm and master_perc\n",
    "#data_inc.head() # all\n",
    "#data_dwe.head() # municipality_nm and dwelling_more_than_74_sq_perc\n",
    "# data_wea.head() # all"
   ]
  },
  {
   "cell_type": "code",
   "execution_count": 32,
   "metadata": {},
   "outputs": [],
   "source": [
    "data_fer['municipality_nm'] = data_fer['municipality_nm'].replace('Copenhagen', 'København')"
   ]
  },
  {
   "cell_type": "code",
   "execution_count": 33,
   "metadata": {},
   "outputs": [
    {
     "name": "stdout",
     "output_type": "stream",
     "text": [
      "(99, 2)\n",
      "(99, 14)\n",
      "(99, 11)\n",
      "(99, 2)\n",
      "(98, 2)\n"
     ]
    }
   ],
   "source": [
    "print(data_fer.shape)\n",
    "print(data_edu.shape)\n",
    "print(data_dwe.shape)\n",
    "print(data_fer.shape)\n",
    "print(data_wea.shape)"
   ]
  },
  {
   "cell_type": "code",
   "execution_count": 34,
   "metadata": {},
   "outputs": [],
   "source": [
    "data_edu = data_edu[['municipality_nm', 'master_perc']]\n",
    "data_dwe = data_dwe[['municipality_nm', 'dwelling_above_74_perc']]"
   ]
  },
  {
   "cell_type": "code",
   "execution_count": 35,
   "metadata": {},
   "outputs": [],
   "source": [
    "# Merge the data frames based on the 'municipality_nm' column using left join\n",
    "merged_df = pd.merge(data_fer, data_edu, on='municipality_nm', how='left')\n",
    "merged_df = pd.merge(merged_df, data_inc, on='municipality_nm', how='left')\n",
    "merged_df = pd.merge(merged_df, data_dwe, on='municipality_nm', how='left')\n",
    "merged_df = pd.merge(merged_df, data_wea, on='municipality_nm', how='left')"
   ]
  },
  {
   "cell_type": "code",
   "execution_count": 36,
   "metadata": {},
   "outputs": [
    {
     "name": "stdout",
     "output_type": "stream",
     "text": [
      "   municipality_nm  TFR  master_perc  disp_income_avg_k  \\\n",
      "29     Christiansø  0.0         12.5                NaN   \n",
      "\n",
      "    dwelling_above_74_perc  household_wealth_avg_k  \n",
      "29                     NaN                     NaN  \n"
     ]
    }
   ],
   "source": [
    "# Find rows with null values\n",
    "null_rows = merged_df[merged_df.isnull().any(axis=1)]\n",
    "\n",
    "print(null_rows)"
   ]
  },
  {
   "cell_type": "code",
   "execution_count": 37,
   "metadata": {},
   "outputs": [],
   "source": [
    "# Drop Christiansø as it is not a municipality \n",
    "merged_df = merged_df.drop(merged_df[merged_df['municipality_nm'] == 'Christiansø'].index)"
   ]
  },
  {
   "cell_type": "code",
   "execution_count": 38,
   "metadata": {},
   "outputs": [
    {
     "name": "stdout",
     "output_type": "stream",
     "text": [
      "<class 'pandas.core.frame.DataFrame'>\n",
      "Int64Index: 98 entries, 0 to 98\n",
      "Data columns (total 6 columns):\n",
      " #   Column                  Non-Null Count  Dtype  \n",
      "---  ------                  --------------  -----  \n",
      " 0   municipality_nm         98 non-null     object \n",
      " 1   TFR                     98 non-null     float64\n",
      " 2   master_perc             98 non-null     float64\n",
      " 3   disp_income_avg_k       98 non-null     float64\n",
      " 4   dwelling_above_74_perc  98 non-null     float64\n",
      " 5   household_wealth_avg_k  98 non-null     float64\n",
      "dtypes: float64(5), object(1)\n",
      "memory usage: 5.4+ KB\n"
     ]
    }
   ],
   "source": [
    "merged_df.info()"
   ]
  },
  {
   "cell_type": "code",
   "execution_count": 39,
   "metadata": {},
   "outputs": [],
   "source": [
    "geometries = geometries.rename(columns={'navn': 'municipality_nm'}) #added"
   ]
  },
  {
   "cell_type": "code",
   "execution_count": 40,
   "metadata": {},
   "outputs": [],
   "source": [
    "data = merged_df.merge(geometries, on='municipality_nm')"
   ]
  },
  {
   "cell_type": "code",
   "execution_count": 41,
   "metadata": {},
   "outputs": [
    {
     "data": {
      "text/plain": [
       "(98, 10)"
      ]
     },
     "execution_count": 41,
     "metadata": {},
     "output_type": "execute_result"
    }
   ],
   "source": [
    "data.shape"
   ]
  },
  {
   "cell_type": "code",
   "execution_count": 42,
   "metadata": {},
   "outputs": [
    {
     "data": {
      "text/html": [
       "<div>\n",
       "<style scoped>\n",
       "    .dataframe tbody tr th:only-of-type {\n",
       "        vertical-align: middle;\n",
       "    }\n",
       "\n",
       "    .dataframe tbody tr th {\n",
       "        vertical-align: top;\n",
       "    }\n",
       "\n",
       "    .dataframe thead th {\n",
       "        text-align: right;\n",
       "    }\n",
       "</style>\n",
       "<table border=\"1\" class=\"dataframe\">\n",
       "  <thead>\n",
       "    <tr style=\"text-align: right;\">\n",
       "      <th></th>\n",
       "      <th>municipality_nm</th>\n",
       "      <th>TFR</th>\n",
       "      <th>master_perc</th>\n",
       "      <th>disp_income_avg_k</th>\n",
       "      <th>dwelling_above_74_perc</th>\n",
       "      <th>household_wealth_avg_k</th>\n",
       "      <th>kommunekode</th>\n",
       "      <th>region</th>\n",
       "      <th>municipal_id</th>\n",
       "      <th>geometry</th>\n",
       "    </tr>\n",
       "  </thead>\n",
       "  <tbody>\n",
       "    <tr>\n",
       "      <th>0</th>\n",
       "      <td>København</td>\n",
       "      <td>1.56</td>\n",
       "      <td>25.87</td>\n",
       "      <td>263.15</td>\n",
       "      <td>48.42</td>\n",
       "      <td>3629.88</td>\n",
       "      <td>0101</td>\n",
       "      <td>None</td>\n",
       "      <td>101</td>\n",
       "      <td>MULTIPOLYGON (((723090.010 6171801.780, 723090...</td>\n",
       "    </tr>\n",
       "    <tr>\n",
       "      <th>1</th>\n",
       "      <td>Frederiksberg</td>\n",
       "      <td>1.79</td>\n",
       "      <td>28.97</td>\n",
       "      <td>319.32</td>\n",
       "      <td>56.84</td>\n",
       "      <td>4487.73</td>\n",
       "      <td>0147</td>\n",
       "      <td>None</td>\n",
       "      <td>147</td>\n",
       "      <td>MULTIPOLYGON (((722290.770 6177984.800, 722299...</td>\n",
       "    </tr>\n",
       "    <tr>\n",
       "      <th>2</th>\n",
       "      <td>Dragør</td>\n",
       "      <td>2.51</td>\n",
       "      <td>16.56</td>\n",
       "      <td>350.84</td>\n",
       "      <td>72.15</td>\n",
       "      <td>5105.65</td>\n",
       "      <td>0155</td>\n",
       "      <td>None</td>\n",
       "      <td>155</td>\n",
       "      <td>MULTIPOLYGON (((729575.650 6168529.720, 729555...</td>\n",
       "    </tr>\n",
       "    <tr>\n",
       "      <th>3</th>\n",
       "      <td>Tårnby</td>\n",
       "      <td>2.06</td>\n",
       "      <td>11.66</td>\n",
       "      <td>275.72</td>\n",
       "      <td>66.18</td>\n",
       "      <td>3408.59</td>\n",
       "      <td>0185</td>\n",
       "      <td>None</td>\n",
       "      <td>185</td>\n",
       "      <td>MULTIPOLYGON (((729600.300 6172549.660, 729596...</td>\n",
       "    </tr>\n",
       "    <tr>\n",
       "      <th>4</th>\n",
       "      <td>Albertslund</td>\n",
       "      <td>1.61</td>\n",
       "      <td>8.26</td>\n",
       "      <td>230.83</td>\n",
       "      <td>69.49</td>\n",
       "      <td>3088.08</td>\n",
       "      <td>0165</td>\n",
       "      <td>None</td>\n",
       "      <td>165</td>\n",
       "      <td>MULTIPOLYGON (((711377.280 6178342.550, 711352...</td>\n",
       "    </tr>\n",
       "  </tbody>\n",
       "</table>\n",
       "</div>"
      ],
      "text/plain": [
       "  municipality_nm   TFR  master_perc  disp_income_avg_k  \\\n",
       "0       København  1.56        25.87             263.15   \n",
       "1   Frederiksberg  1.79        28.97             319.32   \n",
       "2          Dragør  2.51        16.56             350.84   \n",
       "3          Tårnby  2.06        11.66             275.72   \n",
       "4     Albertslund  1.61         8.26             230.83   \n",
       "\n",
       "   dwelling_above_74_perc  household_wealth_avg_k kommunekode region  \\\n",
       "0                   48.42                 3629.88        0101   None   \n",
       "1                   56.84                 4487.73        0147   None   \n",
       "2                   72.15                 5105.65        0155   None   \n",
       "3                   66.18                 3408.59        0185   None   \n",
       "4                   69.49                 3088.08        0165   None   \n",
       "\n",
       "   municipal_id                                           geometry  \n",
       "0           101  MULTIPOLYGON (((723090.010 6171801.780, 723090...  \n",
       "1           147  MULTIPOLYGON (((722290.770 6177984.800, 722299...  \n",
       "2           155  MULTIPOLYGON (((729575.650 6168529.720, 729555...  \n",
       "3           185  MULTIPOLYGON (((729600.300 6172549.660, 729596...  \n",
       "4           165  MULTIPOLYGON (((711377.280 6178342.550, 711352...  "
      ]
     },
     "execution_count": 42,
     "metadata": {},
     "output_type": "execute_result"
    }
   ],
   "source": [
    "data.head()"
   ]
  },
  {
   "cell_type": "code",
   "execution_count": 43,
   "metadata": {},
   "outputs": [],
   "source": [
    "# drop those whith TFR = 0, since there is no data about fertility and they become outliers, also they are all islands\n",
    "data = data[data['TFR'] != 0]"
   ]
  },
  {
   "cell_type": "code",
   "execution_count": 44,
   "metadata": {},
   "outputs": [],
   "source": [
    "data.drop(['region', 'kommunekode'], axis=1, inplace=True)"
   ]
  },
  {
   "cell_type": "code",
   "execution_count": 45,
   "metadata": {},
   "outputs": [
    {
     "data": {
      "text/plain": [
       "(94, 8)"
      ]
     },
     "execution_count": 45,
     "metadata": {},
     "output_type": "execute_result"
    }
   ],
   "source": [
    "data.shape"
   ]
  },
  {
   "cell_type": "code",
   "execution_count": 46,
   "metadata": {},
   "outputs": [],
   "source": [
    "data.to_excel('data.xlsx', index=False)"
   ]
  },
  {
   "cell_type": "code",
   "execution_count": 47,
   "metadata": {},
   "outputs": [],
   "source": [
    "gdf = gpd.GeoDataFrame(data, geometry=data.geometry, crs = 'EPSG:25832') #added"
   ]
  },
  {
   "cell_type": "code",
   "execution_count": 48,
   "metadata": {},
   "outputs": [
    {
     "data": {
      "text/html": [
       "<div>\n",
       "<style scoped>\n",
       "    .dataframe tbody tr th:only-of-type {\n",
       "        vertical-align: middle;\n",
       "    }\n",
       "\n",
       "    .dataframe tbody tr th {\n",
       "        vertical-align: top;\n",
       "    }\n",
       "\n",
       "    .dataframe thead th {\n",
       "        text-align: right;\n",
       "    }\n",
       "</style>\n",
       "<table border=\"1\" class=\"dataframe\">\n",
       "  <thead>\n",
       "    <tr style=\"text-align: right;\">\n",
       "      <th></th>\n",
       "      <th>municipality_nm</th>\n",
       "      <th>TFR</th>\n",
       "      <th>master_perc</th>\n",
       "      <th>disp_income_avg_k</th>\n",
       "      <th>dwelling_above_74_perc</th>\n",
       "      <th>household_wealth_avg_k</th>\n",
       "      <th>municipal_id</th>\n",
       "      <th>geometry</th>\n",
       "    </tr>\n",
       "  </thead>\n",
       "  <tbody>\n",
       "    <tr>\n",
       "      <th>0</th>\n",
       "      <td>København</td>\n",
       "      <td>1.56</td>\n",
       "      <td>25.87</td>\n",
       "      <td>263.15</td>\n",
       "      <td>48.42</td>\n",
       "      <td>3629.88</td>\n",
       "      <td>101</td>\n",
       "      <td>MULTIPOLYGON (((723090.010 6171801.780, 723090...</td>\n",
       "    </tr>\n",
       "    <tr>\n",
       "      <th>1</th>\n",
       "      <td>Frederiksberg</td>\n",
       "      <td>1.79</td>\n",
       "      <td>28.97</td>\n",
       "      <td>319.32</td>\n",
       "      <td>56.84</td>\n",
       "      <td>4487.73</td>\n",
       "      <td>147</td>\n",
       "      <td>MULTIPOLYGON (((722290.770 6177984.800, 722299...</td>\n",
       "    </tr>\n",
       "    <tr>\n",
       "      <th>2</th>\n",
       "      <td>Dragør</td>\n",
       "      <td>2.51</td>\n",
       "      <td>16.56</td>\n",
       "      <td>350.84</td>\n",
       "      <td>72.15</td>\n",
       "      <td>5105.65</td>\n",
       "      <td>155</td>\n",
       "      <td>MULTIPOLYGON (((729575.650 6168529.720, 729555...</td>\n",
       "    </tr>\n",
       "    <tr>\n",
       "      <th>3</th>\n",
       "      <td>Tårnby</td>\n",
       "      <td>2.06</td>\n",
       "      <td>11.66</td>\n",
       "      <td>275.72</td>\n",
       "      <td>66.18</td>\n",
       "      <td>3408.59</td>\n",
       "      <td>185</td>\n",
       "      <td>MULTIPOLYGON (((729600.300 6172549.660, 729596...</td>\n",
       "    </tr>\n",
       "    <tr>\n",
       "      <th>4</th>\n",
       "      <td>Albertslund</td>\n",
       "      <td>1.61</td>\n",
       "      <td>8.26</td>\n",
       "      <td>230.83</td>\n",
       "      <td>69.49</td>\n",
       "      <td>3088.08</td>\n",
       "      <td>165</td>\n",
       "      <td>MULTIPOLYGON (((711377.280 6178342.550, 711352...</td>\n",
       "    </tr>\n",
       "  </tbody>\n",
       "</table>\n",
       "</div>"
      ],
      "text/plain": [
       "  municipality_nm   TFR  master_perc  disp_income_avg_k  \\\n",
       "0       København  1.56        25.87             263.15   \n",
       "1   Frederiksberg  1.79        28.97             319.32   \n",
       "2          Dragør  2.51        16.56             350.84   \n",
       "3          Tårnby  2.06        11.66             275.72   \n",
       "4     Albertslund  1.61         8.26             230.83   \n",
       "\n",
       "   dwelling_above_74_perc  household_wealth_avg_k  municipal_id  \\\n",
       "0                   48.42                 3629.88           101   \n",
       "1                   56.84                 4487.73           147   \n",
       "2                   72.15                 5105.65           155   \n",
       "3                   66.18                 3408.59           185   \n",
       "4                   69.49                 3088.08           165   \n",
       "\n",
       "                                            geometry  \n",
       "0  MULTIPOLYGON (((723090.010 6171801.780, 723090...  \n",
       "1  MULTIPOLYGON (((722290.770 6177984.800, 722299...  \n",
       "2  MULTIPOLYGON (((729575.650 6168529.720, 729555...  \n",
       "3  MULTIPOLYGON (((729600.300 6172549.660, 729596...  \n",
       "4  MULTIPOLYGON (((711377.280 6178342.550, 711352...  "
      ]
     },
     "execution_count": 48,
     "metadata": {},
     "output_type": "execute_result"
    }
   ],
   "source": [
    "gdf.head()"
   ]
  },
  {
   "cell_type": "code",
   "execution_count": 49,
   "metadata": {},
   "outputs": [],
   "source": [
    "# save the GeoDataFrame to a GeoJSON file\n",
    "gdf.to_file('Data/gdf.geojson', driver='GeoJSON')"
   ]
  },
  {
   "cell_type": "markdown",
   "metadata": {},
   "source": [
    "### EDA"
   ]
  },
  {
   "cell_type": "code",
   "execution_count": 50,
   "metadata": {},
   "outputs": [
    {
     "data": {
      "text/html": [
       "<div>\n",
       "<style scoped>\n",
       "    .dataframe tbody tr th:only-of-type {\n",
       "        vertical-align: middle;\n",
       "    }\n",
       "\n",
       "    .dataframe tbody tr th {\n",
       "        vertical-align: top;\n",
       "    }\n",
       "\n",
       "    .dataframe thead th {\n",
       "        text-align: right;\n",
       "    }\n",
       "</style>\n",
       "<table border=\"1\" class=\"dataframe\">\n",
       "  <thead>\n",
       "    <tr style=\"text-align: right;\">\n",
       "      <th></th>\n",
       "      <th>municipality_nm</th>\n",
       "      <th>TFR</th>\n",
       "      <th>master_perc</th>\n",
       "      <th>disp_income_avg_k</th>\n",
       "      <th>dwelling_above_74_perc</th>\n",
       "      <th>household_wealth_avg_k</th>\n",
       "      <th>municipal_id</th>\n",
       "      <th>geometry</th>\n",
       "    </tr>\n",
       "  </thead>\n",
       "  <tbody>\n",
       "    <tr>\n",
       "      <th>0</th>\n",
       "      <td>København</td>\n",
       "      <td>1.56</td>\n",
       "      <td>25.87</td>\n",
       "      <td>263.15</td>\n",
       "      <td>48.42</td>\n",
       "      <td>3629.88</td>\n",
       "      <td>101</td>\n",
       "      <td>MULTIPOLYGON (((723090.010 6171801.780, 723090...</td>\n",
       "    </tr>\n",
       "    <tr>\n",
       "      <th>1</th>\n",
       "      <td>Frederiksberg</td>\n",
       "      <td>1.79</td>\n",
       "      <td>28.97</td>\n",
       "      <td>319.32</td>\n",
       "      <td>56.84</td>\n",
       "      <td>4487.73</td>\n",
       "      <td>147</td>\n",
       "      <td>MULTIPOLYGON (((722290.770 6177984.800, 722299...</td>\n",
       "    </tr>\n",
       "    <tr>\n",
       "      <th>2</th>\n",
       "      <td>Dragør</td>\n",
       "      <td>2.51</td>\n",
       "      <td>16.56</td>\n",
       "      <td>350.84</td>\n",
       "      <td>72.15</td>\n",
       "      <td>5105.65</td>\n",
       "      <td>155</td>\n",
       "      <td>MULTIPOLYGON (((729575.650 6168529.720, 729555...</td>\n",
       "    </tr>\n",
       "    <tr>\n",
       "      <th>3</th>\n",
       "      <td>Tårnby</td>\n",
       "      <td>2.06</td>\n",
       "      <td>11.66</td>\n",
       "      <td>275.72</td>\n",
       "      <td>66.18</td>\n",
       "      <td>3408.59</td>\n",
       "      <td>185</td>\n",
       "      <td>MULTIPOLYGON (((729600.300 6172549.660, 729596...</td>\n",
       "    </tr>\n",
       "    <tr>\n",
       "      <th>4</th>\n",
       "      <td>Albertslund</td>\n",
       "      <td>1.61</td>\n",
       "      <td>8.26</td>\n",
       "      <td>230.83</td>\n",
       "      <td>69.49</td>\n",
       "      <td>3088.08</td>\n",
       "      <td>165</td>\n",
       "      <td>MULTIPOLYGON (((711377.280 6178342.550, 711352...</td>\n",
       "    </tr>\n",
       "  </tbody>\n",
       "</table>\n",
       "</div>"
      ],
      "text/plain": [
       "  municipality_nm   TFR  master_perc  disp_income_avg_k  \\\n",
       "0       København  1.56        25.87             263.15   \n",
       "1   Frederiksberg  1.79        28.97             319.32   \n",
       "2          Dragør  2.51        16.56             350.84   \n",
       "3          Tårnby  2.06        11.66             275.72   \n",
       "4     Albertslund  1.61         8.26             230.83   \n",
       "\n",
       "   dwelling_above_74_perc  household_wealth_avg_k  municipal_id  \\\n",
       "0                   48.42                 3629.88           101   \n",
       "1                   56.84                 4487.73           147   \n",
       "2                   72.15                 5105.65           155   \n",
       "3                   66.18                 3408.59           185   \n",
       "4                   69.49                 3088.08           165   \n",
       "\n",
       "                                            geometry  \n",
       "0  MULTIPOLYGON (((723090.010 6171801.780, 723090...  \n",
       "1  MULTIPOLYGON (((722290.770 6177984.800, 722299...  \n",
       "2  MULTIPOLYGON (((729575.650 6168529.720, 729555...  \n",
       "3  MULTIPOLYGON (((729600.300 6172549.660, 729596...  \n",
       "4  MULTIPOLYGON (((711377.280 6178342.550, 711352...  "
      ]
     },
     "execution_count": 50,
     "metadata": {},
     "output_type": "execute_result"
    }
   ],
   "source": [
    "data.head()"
   ]
  },
  {
   "cell_type": "code",
   "execution_count": 51,
   "metadata": {},
   "outputs": [],
   "source": [
    "characteristics = ['TFR','master_perc', 'disp_income_avg_k',\n",
    "       'dwelling_above_74_perc', 'household_wealth_avg_k']"
   ]
  },
  {
   "cell_type": "code",
   "execution_count": 52,
   "metadata": {},
   "outputs": [
    {
     "data": {
      "image/png": "[encoded data removed]",
      "text/plain": [
       "<Figure size 360x360 with 1 Axes>"
      ]
     },
     "metadata": {
      "needs_background": "light"
     },
     "output_type": "display_data"
    },
    {
     "data": {
      "image/png": "[encoded data removed]",
      "text/plain": [
       "<Figure size 500x500 with 1 Axes>"
      ]
     },
     "metadata": {},
     "output_type": "display_data"
    },
    {
     "data": {
      "image/png": "[encoded data removed]",
      "text/plain": [
       "<Figure size 500x500 with 1 Axes>"
      ]
     },
     "metadata": {},
     "output_type": "display_data"
    },
    {
     "data": {
      "image/png": "[encoded data removed]",
      "text/plain": [
       "<Figure size 500x500 with 1 Axes>"
      ]
     },
     "metadata": {},
     "output_type": "display_data"
    },
    {
     "data": {
      "image/png": "[encoded data removed]",
      "text/plain": [
       "<Figure size 500x500 with 1 Axes>"
      ]
     },
     "metadata": {},
     "output_type": "display_data"
    }
   ],
   "source": [
    "import seaborn as sns\n",
    "\n",
    "# # Show distributions for categorical variables\n",
    "for feature in characteristics:\n",
    "    sns.displot(data, x=feature)"
   ]
  },
  {
   "cell_type": "code",
   "execution_count": 53,
   "metadata": {},
   "outputs": [
    {
     "data": {
      "text/plain": [
       "Index(['municipality_nm', 'TFR', 'master_perc', 'disp_income_avg_k',\n",
       "       'dwelling_above_74_perc', 'household_wealth_avg_k', 'municipal_id',\n",
       "       'geometry'],\n",
       "      dtype='object')"
      ]
     },
     "execution_count": 53,
     "metadata": {},
     "output_type": "execute_result"
    }
   ],
   "source": [
    "data.columns"
   ]
  },
  {
   "cell_type": "markdown",
   "metadata": {},
   "source": [
    "### Multiple regression analysis"
   ]
  },
  {
   "cell_type": "markdown",
   "metadata": {},
   "source": [
    "1. Check the distribution of the data (if Gaussian -> linear regression; if not gaussian -> generalized linear regression; if not linear -> GAM)\n",
    "\n",
    "https://analyticsindiamag.com/guide-to-generalized-additive-modelgam-to-improve-simple-linear-regression/"
   ]
  },
  {
   "cell_type": "code",
   "execution_count": 54,
   "metadata": {},
   "outputs": [
    {
     "data": {
      "image/png": "[encoded data removed]",
      "text/plain": [
       "<Figure size 640x480 with 1 Axes>"
      ]
     },
     "metadata": {},
     "output_type": "display_data"
    }
   ],
   "source": [
    "# plot relationship between fertility rate and other variables \n",
    "plt.scatter(data['household_wealth_avg_k'], data['TFR'], color='green')\n",
    "plt.title('TFR Vs household_wealth_avg_k', fontsize=14)\n",
    "plt.xlabel('household_wealth_avg_k', fontsize=14)\n",
    "plt.ylabel('TRF', fontsize=14)\n",
    "plt.grid(True)\n",
    "plt.show()"
   ]
  },
  {
   "cell_type": "code",
   "execution_count": 55,
   "metadata": {},
   "outputs": [
    {
     "data": {
      "image/png": "[encoded data removed]",
      "text/plain": [
       "<Figure size 640x480 with 1 Axes>"
      ]
     },
     "metadata": {},
     "output_type": "display_data"
    }
   ],
   "source": [
    "# plot relationship between fertility rate and other variables \n",
    "plt.scatter(data['dwelling_above_74_perc'], data['TFR'], color='green')\n",
    "plt.title('TFR Vs dwelling_above_74_perc', fontsize=14)\n",
    "plt.xlabel('dwelling_above_74_perc', fontsize=14)\n",
    "plt.ylabel('TRF', fontsize=14)\n",
    "plt.grid(True)\n",
    "plt.show()"
   ]
  },
  {
   "cell_type": "code",
   "execution_count": 338,
   "metadata": {},
   "outputs": [
    {
     "data": {
      "image/png": "[encoded data removed]",
      "text/plain": [
       "<Figure size 640x480 with 1 Axes>"
      ]
     },
     "metadata": {},
     "output_type": "display_data"
    }
   ],
   "source": [
    "# plot relationship between fertility rate and other variables \n",
    "plt.scatter(data['disp_income_avg_k'], data['TFR'], color='green')\n",
    "plt.title('TFR Vs disp_income_avg_k', fontsize=14)\n",
    "plt.xlabel('disp_income_avg_k', fontsize=14)\n",
    "plt.ylabel('TRF', fontsize=14)\n",
    "plt.grid(True)\n",
    "plt.show()"
   ]
  },
  {
   "cell_type": "code",
   "execution_count": null,
   "metadata": {},
   "outputs": [
    {
     "data": {
      "image/png": "[encoded data removed]",
      "text/plain": [
       "<Figure size 640x480 with 1 Axes>"
      ]
     },
     "metadata": {},
     "output_type": "display_data"
    }
   ],
   "source": [
    "# plot relationship between fertility rate and other variables \n",
    "plt.scatter(data['master_perc'], data['TFR'], color='green')\n",
    "plt.title('TFR Vs Master perc', fontsize=14)\n",
    "plt.xlabel('master_perc', fontsize=14)\n",
    "plt.ylabel('TRF', fontsize=14)\n",
    "plt.grid(True)\n",
    "plt.show()"
   ]
  },
  {
   "cell_type": "markdown",
   "metadata": {},
   "source": [
    "### Multiple regression analysis"
   ]
  },
  {
   "cell_type": "code",
   "execution_count": 342,
   "metadata": {},
   "outputs": [
    {
     "data": {
      "text/plain": [
       "['TFR',\n",
       " 'master_perc',\n",
       " 'disp_income_avg_k',\n",
       " 'dwelling_above_74_perc',\n",
       " 'household_wealth_avg_k']"
      ]
     },
     "execution_count": 342,
     "metadata": {},
     "output_type": "execute_result"
    }
   ],
   "source": [
    "characteristics"
   ]
  },
  {
   "cell_type": "code",
   "execution_count": 361,
   "metadata": {},
   "outputs": [],
   "source": [
    "# Importing the library\n",
    "import scipy\n",
    "from scipy import stats\n",
    "  \n",
    "# Z-Score using scipy\n",
    "data['TFR_st'] = stats.zscore(data['TFR'])\n",
    "data['master_perc_st'] = stats.zscore(data['master_perc'])\n",
    "data['disp_income_avg_k_st'] = stats.zscore(data['disp_income_avg_k'])\n",
    "data['dwelling_above_74_perc_st'] = stats.zscore(data['dwelling_above_74_perc'])\n",
    "data['household_wealth_avg_k_st'] = stats.zscore(data['household_wealth_avg_k'])"
   ]
  },
  {
   "cell_type": "code",
   "execution_count": 372,
   "metadata": {},
   "outputs": [
    {
     "name": "stdout",
     "output_type": "stream",
     "text": [
      "Intercept: \n",
      " -1.341797982631807e-15\n",
      "Coefficients: \n",
      " [ 0.51586085  0.82792746  0.48662955 -0.98567817]\n"
     ]
    }
   ],
   "source": [
    "from sklearn import linear_model\n",
    "\n",
    "x = data[['master_perc_st', 'disp_income_avg_k_st', 'dwelling_above_74_perc_st', 'household_wealth_avg_k_st']]\n",
    "y = data['TFR_st'] \n",
    "\n",
    "# with sklearn\n",
    "regr = linear_model.LinearRegression()\n",
    "regr.fit(x, y)\n",
    "\n",
    "print('Intercept: \\n', regr.intercept_)\n",
    "print('Coefficients: \\n', regr.coef_)\n"
   ]
  },
  {
   "cell_type": "code",
   "execution_count": 373,
   "metadata": {},
   "outputs": [
    {
     "name": "stdout",
     "output_type": "stream",
     "text": [
      "                            OLS Regression Results                            \n",
      "==============================================================================\n",
      "Dep. Variable:                 TFR_st   R-squared:                       0.350\n",
      "Model:                            OLS   Adj. R-squared:                  0.321\n",
      "Method:                 Least Squares   F-statistic:                     11.86\n",
      "Date:                Thu, 18 May 2023   Prob (F-statistic):           9.45e-08\n",
      "Time:                        22:00:47   Log-Likelihood:                -111.91\n",
      "No. Observations:                  93   AIC:                             233.8\n",
      "Df Residuals:                      88   BIC:                             246.5\n",
      "Df Model:                           4                                         \n",
      "Covariance Type:            nonrobust                                         \n",
      "=============================================================================================\n",
      "                                coef    std err          t      P>|t|      [0.025      0.975]\n",
      "---------------------------------------------------------------------------------------------\n",
      "const                     -1.305e-15      0.086  -1.52e-14      1.000      -0.171       0.171\n",
      "master_perc_st                0.5159      0.176      2.937      0.004       0.167       0.865\n",
      "disp_income_avg_k_st          0.8279      0.234      3.541      0.001       0.363       1.293\n",
      "dwelling_above_74_perc_st     0.4866      0.089      5.461      0.000       0.310       0.664\n",
      "household_wealth_avg_k_st    -0.9857      0.297     -3.314      0.001      -1.577      -0.395\n",
      "==============================================================================\n",
      "Omnibus:                        5.154   Durbin-Watson:                   1.524\n",
      "Prob(Omnibus):                  0.076   Jarque-Bera (JB):                4.107\n",
      "Skew:                           0.402   Prob(JB):                        0.128\n",
      "Kurtosis:                       2.357   Cond. No.                         7.26\n",
      "==============================================================================\n",
      "\n",
      "Notes:\n",
      "[1] Standard Errors assume that the covariance matrix of the errors is correctly specified.\n"
     ]
    }
   ],
   "source": [
    "import statsmodels.api as sm\n",
    "\n",
    "# with statsmodels\n",
    "x = sm.add_constant(x) # adding a constant\n",
    " \n",
    "model = sm.OLS(y, x).fit()\n",
    "predictions = model.predict(x) \n",
    " \n",
    "print_model = model.summary()\n",
    "print(print_model)"
   ]
  },
  {
   "cell_type": "markdown",
   "metadata": {},
   "source": [
    "### Correlation"
   ]
  },
  {
   "cell_type": "code",
   "execution_count": 369,
   "metadata": {},
   "outputs": [
    {
     "data": {
      "text/html": [
       "<div>\n",
       "<style scoped>\n",
       "    .dataframe tbody tr th:only-of-type {\n",
       "        vertical-align: middle;\n",
       "    }\n",
       "\n",
       "    .dataframe tbody tr th {\n",
       "        vertical-align: top;\n",
       "    }\n",
       "\n",
       "    .dataframe thead th {\n",
       "        text-align: right;\n",
       "    }\n",
       "</style>\n",
       "<table border=\"1\" class=\"dataframe\">\n",
       "  <thead>\n",
       "    <tr style=\"text-align: right;\">\n",
       "      <th></th>\n",
       "      <th>TFR</th>\n",
       "      <th>master_perc_st</th>\n",
       "      <th>disp_income_avg_k_st</th>\n",
       "      <th>dwelling_above_74_perc_st</th>\n",
       "      <th>household_wealth_avg_k_st</th>\n",
       "    </tr>\n",
       "  </thead>\n",
       "  <tbody>\n",
       "    <tr>\n",
       "      <th>TFR</th>\n",
       "      <td>1.000000</td>\n",
       "      <td>0.172037</td>\n",
       "      <td>0.220210</td>\n",
       "      <td>0.411425</td>\n",
       "      <td>0.122774</td>\n",
       "    </tr>\n",
       "    <tr>\n",
       "      <th>master_perc_st</th>\n",
       "      <td>0.172037</td>\n",
       "      <td>1.000000</td>\n",
       "      <td>0.768810</td>\n",
       "      <td>-0.263558</td>\n",
       "      <td>0.864469</td>\n",
       "    </tr>\n",
       "    <tr>\n",
       "      <th>disp_income_avg_k_st</th>\n",
       "      <td>0.220210</td>\n",
       "      <td>0.768810</td>\n",
       "      <td>1.000000</td>\n",
       "      <td>-0.184811</td>\n",
       "      <td>0.927668</td>\n",
       "    </tr>\n",
       "    <tr>\n",
       "      <th>dwelling_above_74_perc_st</th>\n",
       "      <td>0.411425</td>\n",
       "      <td>-0.263558</td>\n",
       "      <td>-0.184811</td>\n",
       "      <td>1.000000</td>\n",
       "      <td>-0.216871</td>\n",
       "    </tr>\n",
       "    <tr>\n",
       "      <th>household_wealth_avg_k_st</th>\n",
       "      <td>0.122774</td>\n",
       "      <td>0.864469</td>\n",
       "      <td>0.927668</td>\n",
       "      <td>-0.216871</td>\n",
       "      <td>1.000000</td>\n",
       "    </tr>\n",
       "  </tbody>\n",
       "</table>\n",
       "</div>"
      ],
      "text/plain": [
       "                                TFR  master_perc_st  disp_income_avg_k_st  \\\n",
       "TFR                        1.000000        0.172037              0.220210   \n",
       "master_perc_st             0.172037        1.000000              0.768810   \n",
       "disp_income_avg_k_st       0.220210        0.768810              1.000000   \n",
       "dwelling_above_74_perc_st  0.411425       -0.263558             -0.184811   \n",
       "household_wealth_avg_k_st  0.122774        0.864469              0.927668   \n",
       "\n",
       "                           dwelling_above_74_perc_st  \\\n",
       "TFR                                         0.411425   \n",
       "master_perc_st                             -0.263558   \n",
       "disp_income_avg_k_st                       -0.184811   \n",
       "dwelling_above_74_perc_st                   1.000000   \n",
       "household_wealth_avg_k_st                  -0.216871   \n",
       "\n",
       "                           household_wealth_avg_k_st  \n",
       "TFR                                         0.122774  \n",
       "master_perc_st                              0.864469  \n",
       "disp_income_avg_k_st                        0.927668  \n",
       "dwelling_above_74_perc_st                  -0.216871  \n",
       "household_wealth_avg_k_st                   1.000000  "
      ]
     },
     "execution_count": 369,
     "metadata": {},
     "output_type": "execute_result"
    }
   ],
   "source": [
    "\n",
    "data[['TFR', 'master_perc_st', 'disp_income_avg_k_st', 'dwelling_above_74_perc_st', 'household_wealth_avg_k_st']].corr()"
   ]
  }
 ],
 "metadata": {
  "kernelspec": {
   "display_name": "Python 3 (ipykernel)",
   "language": "python",
   "name": "python3"
  },
  "language_info": {
   "codemirror_mode": {
    "name": "ipython",
    "version": 3
   },
   "file_extension": ".py",
   "mimetype": "text/x-python",
   "name": "python",
   "nbconvert_exporter": "python",
   "pygments_lexer": "ipython3",
   "version": "3.9.12"
  }
 },
 "nbformat": 4,
 "nbformat_minor": 4
}

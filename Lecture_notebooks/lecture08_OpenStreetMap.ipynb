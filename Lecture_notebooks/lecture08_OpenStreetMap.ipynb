{
 "cells": [
  {
   "cell_type": "markdown",
   "metadata": {
    "tags": []
   },
   "source": [
    "<div class=\"frontmatter text-center\">\n",
    "<h1>Geospatial Data Science</h1>\n",
    "<h2>Lecture 8: OpenStreetMap, OSMnx & pyrosm </h2>\n",
    "<h3>IT University of Copenhagen, Spring 2023</h3>\n",
    "<h3>Instructor: Ane Rahbek Vierø</h3>\n",
    "</div>\n",
    "\n",
    "This notebook was adapted from:\n",
    "* OSMnx examples: https://github.com/gboeing/osmnx-examples\n",
    "* pyrosm examples: https://pyrosm.readthedocs.io/en/latest/basics.html#read-street-networks"
   ]
  },
  {
   "cell_type": "code",
   "execution_count": null,
   "metadata": {},
   "outputs": [],
   "source": [
    "import geopandas as gpd\n",
    "import osmnx as ox\n",
    "import numpy as np\n",
    "import networkx as nx\n",
    "import pandas as pd\n",
    "import pyrosm\n",
    "import matplotlib.pyplot as plt\n",
    "import contextily as cx \n",
    "\n",
    "import warnings\n",
    "warnings.filterwarnings(\"ignore\")\n",
    "\n",
    "%matplotlib inline\n",
    "ox.__version__"
   ]
  },
  {
   "cell_type": "markdown",
   "metadata": {},
   "source": [
    "# 1. OSMnx overview: Querying & plotting\n",
    "\n",
    "OSMnx is a great library for downloading and working with OSM data. The 'nx' in OSMnx comes from [NetworkX](https://networkx.org/documentation/stable/index.html) and tells us that OSMnx is especially great for accessing and analyzing street network data.\n",
    "For very large data sets, pyrosm is a better choice (more on that below).\n",
    "\n",
    "## OSMnx settings\n",
    "\n",
    "You can configure OSMnx `ox.settings` See the [documentation](https://osmnx.readthedocs.io/en/stable/osmnx.html?highlight=settings#module-osmnx.settings) for the settings you can configure. For example, by default OSMnx caches all server responses to prevent repeatedly hitting the server for the same query every time you run it. This both makes our code faster on subsequent runs and helps us be a \"good user\". But you can turn caching off (or back on again) with the `use_cache` parameter. Any parameters not passed to the config function are (re-)set to their original default values whenever you call it. If you are re-loading data for an analysis over a long time period, it can be a good idea to turn cacheing of, to avoid getting old outdated data.\n"
   ]
  },
  {
   "cell_type": "code",
   "execution_count": null,
   "metadata": {},
   "outputs": [],
   "source": [
    "# turn response caching off\n",
    "ox.settings.use_cache=False  # If you are working on a project where you often re-download data, turning it off is recommended!\n",
    "\n",
    "# turn it back on and turn on/off logging to your console\n",
    "ox.settings.use_cache=True\n",
    "ox.settings.log_console=False"
   ]
  },
  {
   "cell_type": "markdown",
   "metadata": {},
   "source": [
    "## 1.1: Get place boundaries from OpenStreetMap\n",
    "\n",
    "OSMnx lets you download place boundary geometries from OpenStreetMap, project them*, and plot them. For a more in-depth demonstration of querying by place, see [this notebook](https://github.com/gboeing/osmnx-examples/blob/main/notebooks/03-graph-place-queries.ipynb).\n",
    "\n",
    "*If no crs is provided, OSMnx will use the default UTM zone for the location of the data, so use this with care!"
   ]
  },
  {
   "cell_type": "code",
   "execution_count": null,
   "metadata": {},
   "outputs": [],
   "source": [
    "# get the boundary polygon for manhattan, project it, and plot it\n",
    "city = ox.geocode_to_gdf(\"Manhattan\")\n",
    "city_proj = ox.project_gdf(city)\n",
    "ax = city_proj.plot(fc=\"blue\", ec=\"black\")\n",
    "ax.axis(\"off\");"
   ]
  },
  {
   "cell_type": "code",
   "execution_count": null,
   "metadata": {},
   "outputs": [],
   "source": [
    "# get boundary polygons for several cities, save as GeoPackage, project to UTM, and plot\n",
    "place_names = [\n",
    "    \"Berkeley, California, USA\",\n",
    "    \"Oakland, California, USA\",\n",
    "    \"Piedmont, California, USA\",\n",
    "    \"Emeryville, California, USA\",\n",
    "    \"Alameda, Alameda County, CA, USA\",\n",
    "]\n",
    "east_bay = ox.geocode_to_gdf(place_names)\n",
    "east_bay.to_file(\"east_bay.gpkg\", driver=\"GPKG\")\n",
    "east_bay = ox.project_gdf(east_bay)\n",
    "ax = east_bay.plot(fc=\"purple\", ec=\"white\")\n",
    "ax.axis(\"off\");"
   ]
  },
  {
   "cell_type": "markdown",
   "metadata": {},
   "source": [
    "## 1.2: Download building footprints & POIs\n",
    "\n",
    "To download data from OSM with OSMnx *other* than the street network, we use `ox.geomtries_from_place`/`ox.geomtries_from_point`/`ox.geomtries_from_polygon` and pass a dictionary with tags and tag values used to query the Overpass API (see next section for examples of the difference between using '_place', '_point' or '_polygon')\n",
    "\n",
    "If we use \"True\" as the tag value, all objects in the area with some value for that tag will be downloaded.\n",
    "\n",
    "### Building footprints"
   ]
  },
  {
   "cell_type": "code",
   "execution_count": null,
   "metadata": {},
   "outputs": [],
   "source": [
    "gdf = ox.geometries_from_place(\"Frederiksberg Municipality\", tags = {\"building\": True})\n",
    "gdf_proj = ox.project_gdf(gdf, to_crs=\"EPSG:25832\")\n",
    "fig, ax = ox.plot_footprints(gdf_proj, filepath=\"files/frb_buildings.png\", dpi=400, save=True, show=False, close=True)"
   ]
  },
  {
   "cell_type": "markdown",
   "metadata": {},
   "source": [
    "**Note** that these methods will return *all* objects regardless of their geometry type. For Frederiksberg, we for example also get buildings with a point geometry:"
   ]
  },
  {
   "cell_type": "code",
   "execution_count": null,
   "metadata": {},
   "outputs": [],
   "source": [
    "gdf_proj.geom_type.unique()"
   ]
  },
  {
   "cell_type": "markdown",
   "metadata": {},
   "source": [
    "### POIs\n",
    "\n",
    "POIs, or 'points of interest' are for example shops, restaurants, schools, public transport, etc.\n",
    "Note that OSM sometimes isn't *as* complete as e.g. Google Maps for POIs in all locations.\n",
    "\n",
    "To get all bakeries in Cph + Frederiksberg, we look for all objects with the tag combination \"shop:bakery\":"
   ]
  },
  {
   "cell_type": "code",
   "execution_count": null,
   "metadata": {},
   "outputs": [],
   "source": [
    "tags = {\"shop\": \"bakery\"}\n",
    "bakeries = ox.geometries_from_place([\"Copenhagen Municipality\", \"Frederiksberg Municipality\"], tags)"
   ]
  },
  {
   "cell_type": "code",
   "execution_count": null,
   "metadata": {},
   "outputs": [],
   "source": [
    "fig, ax = plt.subplots(figsize=(10,10))\n",
    "\n",
    "bakeries.to_crs(\"EPSG:25832\").plot(ax=ax, color='orange')\n",
    "ax.set_axis_off()\n",
    "cx.add_basemap(\n",
    "    ax=ax, \n",
    "    crs=\"EPSG:25832\", \n",
    "    source=cx.providers.CartoDB.Voyager);"
   ]
  },
  {
   "cell_type": "markdown",
   "metadata": {},
   "source": [
    "## Part 1.3: Download street networks\n",
    "\n",
    "OSMnx lets you download street network data and build topologically-corrected street networks, project and plot the networks, and save the street network for later use. The street networks are directed and preserve one-way directionality.\n",
    "\n",
    "You can download a street network by providing OSMnx any of the following (some are demonstrated in the examples below):\n",
    "  - a bounding box\n",
    "  - a lat-long point plus a distance\n",
    "  - an address plus a distance\n",
    "  - a place name or list of place names (to automatically geocode and get the boundary of)\n",
    "  - a polygon of the desired street network's boundaries\n",
    "  - a .osm formatted xml file\n",
    "\n",
    "You can also specify several different network types:\n",
    "  - 'drive' - get drivable public streets (but not service roads)\n",
    "  - 'drive_service' - get drivable streets, including service roads\n",
    "  - 'walk' - get all streets and paths that pedestrians can use (this network type ignores one-way directionality)\n",
    "  - 'bike' - get all streets and paths that cyclists can use\n",
    "  - 'all' - download all non-private OSM streets and paths (this is the default network type unless you specify a different one)\n",
    "  - 'all_private' - download all OSM streets and paths, including private-access ones"
   ]
  },
  {
   "cell_type": "markdown",
   "metadata": {},
   "source": [
    " #### Method #1: Pass a bounding box\n",
    "\n",
    "This constructs the network from all the OSM nodes and ways within the bounding box."
   ]
  },
  {
   "cell_type": "code",
   "execution_count": null,
   "metadata": {},
   "outputs": [],
   "source": [
    "# define a bounding box around ITU\n",
    "north, south, east, west = 55.6646, 55.6540, 12.5767, 12.6077 # lat lon coordinates!\n",
    "\n",
    "# create network from that bounding box\n",
    "G = ox.graph_from_bbox(north, south, east, west, network_type=\"drive_service\")\n",
    "ox.plot_graph(G, node_color=\"r\");"
   ]
  },
  {
   "cell_type": "markdown",
   "metadata": {},
   "source": [
    "#### Method #2: Pass a lat-lng point and bounding box distance in meters\n",
    "\n",
    "This creates a bounding box *n* meters North, South, East, and West of the point, then constructs the network from all the OSM nodes and ways within the bounding box."
   ]
  },
  {
   "cell_type": "code",
   "execution_count": null,
   "metadata": {},
   "outputs": [],
   "source": [
    "# define a point at ITU\n",
    "location_point = (55.659323, 12.591472)\n",
    "\n",
    "# create bikeable network from point, inside bounding box of N, S, E, W each 750m from point\n",
    "G = ox.graph_from_point(location_point, dist=750, dist_type=\"bbox\", network_type=\"bike\")\n",
    "ox.plot_graph(G, node_color=\"r\");"
   ]
  },
  {
   "cell_type": "markdown",
   "metadata": {},
   "source": [
    "#### Method #3: Pass a lat-lng point and *network* distance in meters ####\n",
    "\n",
    "This creates a bounding box *n* meters North, South, East, and West of the point, then constructs the network from all the OSM nodes and ways within the bounding box. Then it truncates the network by removing all nodes further than *n* meters from the point along the network."
   ]
  },
  {
   "cell_type": "code",
   "execution_count": null,
   "metadata": {},
   "outputs": [],
   "source": [
    "# same point again, but create network only of nodes within 750m along the network from point\n",
    "G1 = ox.graph_from_point(location_point, dist=750, dist_type=\"network\")\n",
    "ox.plot_graph(G1, node_color=\"r\");"
   ]
  },
  {
   "cell_type": "markdown",
   "metadata": {},
   "source": [
    "**Note** the plot above shows the network within 750m (traveling distance along the network) from the `location_point`. By default, the `network_type` parameter value is 'all', meaning that we do not filter out paths that restrict certain types of traffic. This also means that one-way streets are honored as one-way and you cannot travel the wrong direction down them. Thus, the 750m takes into account only those nodes you can reach within 750m while only traveling in the allowed direction of the street. Instead (below), we can specify `network_type='walk'` to build a street network only of paths that walking is allowed on. This also makes every path bi-directional in the directed network, because you can walk in either direction on the sidewalk of a one-way street. Thus, the 750m now takes into account those nodes you can reach within 750m while traveling in either direction (even if it's a one-way street)."
   ]
  },
  {
   "cell_type": "code",
   "execution_count": null,
   "metadata": {},
   "outputs": [],
   "source": [
    "# create network only of nodes within 750m walking along the network from point\n",
    "G2 = ox.graph_from_point(location_point, dist=750, dist_type=\"network\", network_type=\"walk\")\n",
    "ox.plot_graph(G2, node_color=\"r\");"
   ]
  },
  {
   "cell_type": "markdown",
   "metadata": {},
   "source": [
    "#### Method #4: Pass an address and distance (*bounding box* or *network*) in meters\n",
    "\n",
    "This geocodes* the address, creates a bounding box, downloads the network, then truncates it by network distance (if distance_type='network').\n",
    "\n",
    "*Geocoding is the process of converting addresses to coordinates. Geocoding based on OSM data is usually done with [Nominatim](https://nominatim.org/)."
   ]
  },
  {
   "cell_type": "code",
   "execution_count": null,
   "metadata": {},
   "outputs": [],
   "source": [
    "# network from address, including only nodes within 1km along the network from the address\n",
    "G = ox.graph_from_address(\n",
    "    address=\"7 Rued Langgaards Vej, Copenhagen\",\n",
    "    dist=1000,\n",
    "    dist_type=\"network\",\n",
    "    network_type=\"bike\",\n",
    ")\n",
    "\n",
    "# you can project the network to UTM (zone calculated automatically)\n",
    "G_projected = ox.project_graph(G)\n",
    "ox.plot_graph(G_projected, node_color=\"r\");\n"
   ]
  },
  {
   "cell_type": "markdown",
   "metadata": {},
   "source": [
    "#### Method #5: Pass a place name ####\n",
    "\n",
    "This geocodes the place name, gets the place's boundary shape polygon and bounding box, downloads the network within the bounding box, then truncates it to the place's boundary polygon."
   ]
  },
  {
   "cell_type": "code",
   "execution_count": null,
   "metadata": {},
   "outputs": [],
   "source": [
    "G = ox.graph_from_place(\"Frederiksberg\", network_type=\"drive\")\n",
    "ox.plot_graph(G, node_color=\"r\");"
   ]
  },
  {
   "cell_type": "markdown",
   "metadata": {},
   "source": [
    "This is not the Frederiksberg we were looking for! It is Fredericksburg in Virginia. What happened? Names are resolved via nominatim, which returns the first result that is a polygon or multipolygon. All results are listed here: https://nominatim.openstreetmap.org/ui/search.html?q=Frederiksberg\n",
    "\n",
    "So where is the Frederiksberg we are looking for?"
   ]
  },
  {
   "cell_type": "code",
   "execution_count": null,
   "metadata": {},
   "outputs": [],
   "source": [
    "# Frederiksberg Municipality, Denmark\n",
    "G_fred = ox.graph_from_place(\"Frederiksberg Municipality\", network_type=\"drive\")\n",
    "G_fred = ox.project_graph(G_fred)\n",
    "ox.plot_graph(G_fred, node_color=\"r\");"
   ]
  },
  {
   "cell_type": "code",
   "execution_count": null,
   "metadata": {},
   "outputs": [],
   "source": [
    "G_fred"
   ]
  },
  {
   "cell_type": "markdown",
   "metadata": {},
   "source": [
    "Be aware that this is a MultiDiGraph, i.e. a multigraph (parallel edges are possible), which is directed. Because there can be multiple links between a pair of nodes, each link is identified with a triple: (node1id, node2id, counter) (a multiindex):"
   ]
  },
  {
   "cell_type": "code",
   "execution_count": null,
   "metadata": {},
   "outputs": [],
   "source": [
    "list(G_fred.edges)[:10]"
   ]
  },
  {
   "cell_type": "markdown",
   "metadata": {},
   "source": [
    "In OSMnx, node1 is called `u`, node2 is called `v` and the counter is `k`, which we can see if we convert our graph to geodataframes:"
   ]
  },
  {
   "cell_type": "code",
   "execution_count": null,
   "metadata": {},
   "outputs": [],
   "source": [
    "nodes, edges = ox.graph_to_gdfs(G_fred)\n",
    "edges.head()"
   ]
  },
  {
   "cell_type": "markdown",
   "metadata": {},
   "source": [
    "Beware of weird or unexpected administrative regions, so always double-check your results:"
   ]
  },
  {
   "cell_type": "code",
   "execution_count": null,
   "metadata": {},
   "outputs": [],
   "source": [
    "# get the boundary polygon for Copenhagen, project it, and plot it\n",
    "city = ox.geocode_to_gdf(\"Copenhagen Municipality\")\n",
    "city_proj = ox.project_gdf(city)\n",
    "ax = city_proj.plot(fc=\"gray\", ec=\"none\")\n",
    "ax.axis(\"off\");"
   ]
  },
  {
   "cell_type": "code",
   "execution_count": null,
   "metadata": {},
   "outputs": [],
   "source": [
    "# get the boundary polygon for Copenhagen including Frederiksberg, project it, and plot it\n",
    "city = ox.geocode_to_gdf([\"Copenhagen Municipality\", \"Frederiksberg Municipality\"])\n",
    "city_proj = ox.project_gdf(city, to_crs=\"EPSG:25832\")\n",
    "ax = city_proj.plot(fc=\"gray\", ec=\"white\")\n",
    "ax.axis(\"off\");"
   ]
  },
  {
   "cell_type": "markdown",
   "metadata": {},
   "source": [
    "You can see a thin boundary around Frederiksberg because the two municipalities still are defined by each their separate geometry. If you wanted to use the shapes further, for example as a boundary to select further objects, you could dissolve the polygons with shapely:"
   ]
  },
  {
   "cell_type": "code",
   "execution_count": null,
   "metadata": {},
   "outputs": [],
   "source": [
    "city_proj"
   ]
  },
  {
   "cell_type": "code",
   "execution_count": null,
   "metadata": {},
   "outputs": [],
   "source": [
    "from shapely.ops import unary_union\n",
    "unary_union([p for p in city_proj.geometry])"
   ]
  },
  {
   "cell_type": "markdown",
   "metadata": {},
   "source": [
    "# 2. Working with street networks\n",
    "\n",
    "## 2.1 Simplifying street network topology\n",
    "\n",
    "Simplification is normally done by OSMnx automatically under the hood, but we can break it out to see how it works. \n",
    "\n",
    "OpenStreetMap nodes are weird. They include intersections, but they also include all the points along a single block where the street curves. The latter are not nodes in the graph theory sense, so we remove them algorithmically and consolidate the set of edges between \"true\" network nodes into a single edge. There are two simplification modes, strict and non-strict. The main difference is that unlike strict mode, non-strict mode allows nodes even if they aren't end points or intersections but have incident edges with different OSM ID.\n",
    "\n",
    "Note that the simplification routine only considers network topology! If edges with differing tag values are merged in the simplification process, the tag value is a list of all the different tag values in the original edges (e.g. highway = ['primary','secondary'])."
   ]
  },
  {
   "cell_type": "code",
   "execution_count": null,
   "metadata": {},
   "outputs": [],
   "source": [
    "# create a network around some (lat, lng) point but do not simplify it yet\n",
    "location_point = (33.299896, -111.831638)\n",
    "G = ox.graph_from_point(location_point, network_type=\"drive_service\", dist=500, simplify=False)\n",
    "ox.plot_graph(G, node_color=\"r\");"
   ]
  },
  {
   "cell_type": "code",
   "execution_count": null,
   "metadata": {},
   "outputs": [],
   "source": [
    "# turn off strict mode and see what nodes we'd remove, in yellow\n",
    "nc = [\"r\" if ox.simplification._is_endpoint(G, node) else \"y\" for node in G.nodes()]\n",
    "fig, ax = ox.plot_graph(G, node_color=nc);"
   ]
  },
  {
   "cell_type": "markdown",
   "metadata": {},
   "source": [
    "The dots above are OSM nodes. We'll remove the nodes in yellow as they're not real network nodes (intersections/dead-ends)."
   ]
  },
  {
   "cell_type": "code",
   "execution_count": null,
   "metadata": {},
   "outputs": [],
   "source": [
    "# simplify the network\n",
    "G = ox.simplify_graph(G)\n",
    "ox.plot_graph(G, node_color=\"r\");"
   ]
  },
  {
   "cell_type": "markdown",
   "metadata": {},
   "source": [
    "## 2.2 Consolidating network intersections\n",
    "\n",
    "Complex intersection consolidation\n",
    "\n",
    "Many real-world street networks feature complex intersections and traffic circles, resulting in a cluster of graph nodes where there is really just one true intersection, as we would think of it in transportation or urban design. Similarly, divided roads are often represented by separate centerline edges: the intersection of two divided roads thus creates 4 nodes, representing where each edge intersects a perpendicular edge, but these 4 nodes represent a single intersection in the real world. Traffic circles similarly create a cluster of nodes where each street's edge intersects the roundabout.\n",
    "\n",
    "OSMnx can consolidate nearby intersections and optionally rebuild the graph's topology."
   ]
  },
  {
   "cell_type": "code",
   "execution_count": null,
   "metadata": {},
   "outputs": [],
   "source": [
    "# get a street network and plot it with all edge intersections\n",
    "point = 55.667708, 12.596266\n",
    "G = ox.graph_from_point(point, network_type=\"drive\", dist=500)\n",
    "ox.plot_graph(G, node_color=\"r\");"
   ]
  },
  {
   "cell_type": "markdown",
   "metadata": {},
   "source": [
    "Notice the complex intersections creating clusters of nodes.\n",
    "\n",
    "We'll specify that any nodes with 15 meter buffers of each other in this network are part of the same intersection. Adjust this tolerance based on the street design standards in the community you are examining, and use a projected graph to work in meaningful units like meters. We'll also specify that we do not want dead-ends returned in our list of consolidated intersections."
   ]
  },
  {
   "cell_type": "code",
   "execution_count": null,
   "metadata": {},
   "outputs": [],
   "source": [
    "# get a GeoSeries of consolidated intersections\n",
    "G_proj = ox.project_graph(G)\n",
    "intersections = ox.consolidate_intersections(\n",
    "    G_proj, \n",
    "    rebuild_graph=False, # wheb rebuild is set to False, the function only returns the consolidated intersections\n",
    "    tolerance=15, \n",
    "    dead_ends=False\n",
    ")\n",
    "len(intersections)"
   ]
  },
  {
   "cell_type": "code",
   "execution_count": null,
   "metadata": {},
   "outputs": [],
   "source": [
    "# compare to number of nodes in original graph\n",
    "len(G)"
   ]
  },
  {
   "cell_type": "markdown",
   "metadata": {},
   "source": [
    "Note that these cleaned up intersections give us more accurate intersection counts and densities, but do not alter or integrate with the network's topology.\n",
    "\n",
    "To do that, we need to **rebuild the graph**."
   ]
  },
  {
   "cell_type": "code",
   "execution_count": null,
   "metadata": {},
   "outputs": [],
   "source": [
    "# consolidate intersections and rebuild graph topology\n",
    "# this reconnects edge geometries to the new consolidated nodes\n",
    "G2 = ox.consolidate_intersections(G_proj, \n",
    "                                  rebuild_graph=True, \n",
    "                                  tolerance=15, \n",
    "                                  dead_ends=False)\n",
    "len(G2)"
   ]
  },
  {
   "cell_type": "code",
   "execution_count": null,
   "metadata": {},
   "outputs": [],
   "source": [
    "fig, ax = ox.plot_graph(G2, node_color=\"r\")"
   ]
  },
  {
   "cell_type": "markdown",
   "metadata": {},
   "source": [
    "Notice how the traffic circles' many nodes are merged into a new single centroid node, with edge geometries extended to connect to it. Similar consolidation occurs at the intersection of the divided roads.\n",
    "\n",
    "Running `consolidate_intersections` with `rebuild_graph=True` may yield somewhat (but not very) different intersection counts/densities compared to `rebuild_graph=False`. The difference lies in that the latter just merges buffered node points that overlap, whereas the former checks the topology of the overlapping node buffers before merging them.\n",
    "\n",
    "This prevents topologically remote but spatially proximate nodes from being merged. For example:\n",
    "\n",
    "  - A street intersection may lie directly below a freeway overpass's intersection with an on-ramp. We would not want to merge these together and connnect their edges: they are distinct junctions in the system of roads.\n",
    "  - In a residential neighborhood, a bollarded street may create a dead-end immediately next to an intersection or traffic circle. We would not want to merge this dead-end with the intersection and connect their edges.\n",
    "\n",
    "These examples illustrate (two-dimensional) geometric proximity, but topological remoteness. Accordingly, in some situations we may expect higher intersection counts when using `rebuild_graph=True` because it is more cautious with merging in these cases. The trade-off is that it has higher time complexity than `rebuild_graph=False`."
   ]
  },
  {
   "cell_type": "markdown",
   "metadata": {},
   "source": [
    "## 2.3 Cleaning up the periphery of the network\n",
    "\n",
    "This step is related to the network simplification. OSMnx by default (with clean_periphery parameter equal to True) buffers the area you request by 0.5km, and then retrieves the street network within this larger, buffered area. Then it simplifies the topology so that nodes represent intersections of streets (rather than including all the interstitial OSM nodes). Then it calculates the (undirected) degree of each node in this larger network. Next it truncates this network by the actual area you requested (either by bounding box, or by polygon). Finally it saves a dictionary of node degree values as a graph attribute.\n",
    "\n",
    "This has two primary benefits. First, it cleans up stray false edges around the periphery. If clean_periphery=False, peripheral non-intersection nodes within the requested area appear to be cul-de-sacs, as the rest of the edge leading to an intersection outside the area is ignored. If clean_periphery=True, the larger graph is first created, allowing simplification of such edges to their true intersections, allowing their entirety to be pruned after truncating down to the actual requested area. Second, it gives accurate node degrees by both a) counting node neighbors even if they fall outside the retained network (so you don't claim a degree-4 node is degree-2 because only 2 of its neighbors lie within the area), and b) not counting all those stray false edges' terminus nodes as cul-de-sacs that otherwise grossly inflate the count of nodes with degree=1, even though these nodes are really just interstitial nodes in the middle of a chopped-off street segment between intersections.\n",
    "\n",
    "See two examples below."
   ]
  },
  {
   "cell_type": "code",
   "execution_count": null,
   "metadata": {},
   "outputs": [],
   "source": [
    "# get some bbox\n",
    "bbox = ox.utils_geo.bbox_from_point((45.518698, -122.679964), dist=300)\n",
    "north, south, east, west = bbox"
   ]
  },
  {
   "cell_type": "code",
   "execution_count": null,
   "metadata": {},
   "outputs": [],
   "source": [
    "G = ox.graph_from_bbox(north, south, east, west, network_type=\"drive\", clean_periphery=False)\n",
    "ox.plot_graph(G, node_color=\"r\");"
   ]
  },
  {
   "cell_type": "code",
   "execution_count": null,
   "metadata": {},
   "outputs": [],
   "source": [
    "# the node degree distribution for this graph has many false cul-de-sacs\n",
    "k = dict(G.degree())\n",
    "{n: list(k.values()).count(n) for n in range(max(k.values()) + 1)}"
   ]
  },
  {
   "cell_type": "markdown",
   "metadata": {},
   "source": [
    "Above, notice all the peripheral stray edge stubs. Below, notice these are cleaned up and that the node degrees are accurate with regards to the wider street network that may extend beyond the limits of the requested area."
   ]
  },
  {
   "cell_type": "code",
   "execution_count": null,
   "metadata": {},
   "outputs": [],
   "source": [
    "G = ox.graph_from_bbox(north, south, east, west, network_type=\"drive\")\n",
    "ox.plot_graph(G, node_color=\"r\");"
   ]
  },
  {
   "cell_type": "code",
   "execution_count": null,
   "metadata": {},
   "outputs": [],
   "source": [
    "# the streets per node distribution for this cleaned up graph is more accurate\n",
    "# dict keys = count of streets emanating from the node (ie, intersections and dead-ends)\n",
    "# dict vals = number of nodes with that count\n",
    "k = nx.get_node_attributes(G, \"street_count\")\n",
    "{n: list(k.values()).count(n) for n in range(max(k.values()) + 1)}"
   ]
  },
  {
   "cell_type": "markdown",
   "metadata": {},
   "source": [
    "## 2.4 Highlighting network properties\n",
    "\n",
    "OSMnx can also highlight different edge attributes. To read more about how edge attributes are stored and accessed, see https://networkx.org/documentation/stable/reference/classes/generated/networkx.Graph.edges.html"
   ]
  },
  {
   "cell_type": "code",
   "execution_count": null,
   "metadata": {},
   "outputs": [],
   "source": [
    "location_point = (33.299896, -111.831638)\n",
    "G = ox.graph_from_point(location_point, network_type=\"drive_service\", dist=500, simplify=False)\n",
    "G = ox.simplify_graph(G)\n",
    "\n",
    "# show the simplified network with edges colored by length\n",
    "ec = ox.plot.get_edge_colors_by_attr(G, attr=\"length\", cmap=\"plasma_r\")\n",
    "fig, ax = ox.plot_graph(\n",
    "    G, node_color=\"w\", node_edgecolor=\"k\", node_size=50, edge_color=ec, edge_linewidth=3\n",
    ")"
   ]
  },
  {
   "cell_type": "code",
   "execution_count": null,
   "metadata": {},
   "outputs": [],
   "source": [
    "# highlight all parallel (multiple) edges\n",
    "ec = [\"gray\" if k == 0 or u == v else \"r\" for u, v, k in G.edges(keys=True)]\n",
    "fig, ax = ox.plot_graph(\n",
    "    G, node_color=\"w\", node_edgecolor=\"k\", node_size=20, edge_color=ec, edge_linewidth=3\n",
    ")"
   ]
  },
  {
   "cell_type": "markdown",
   "metadata": {},
   "source": [
    "**We can see the parallel edges in the data (edges with identical values for start and end nodes):**"
   ]
  },
  {
   "cell_type": "code",
   "execution_count": null,
   "metadata": {},
   "outputs": [],
   "source": [
    "list(G.edges)[:10]"
   ]
  },
  {
   "cell_type": "markdown",
   "metadata": {},
   "source": [
    "**To see the data for a specific edge, use the ids of the edge's start node, end node and counter:**"
   ]
  },
  {
   "cell_type": "code",
   "execution_count": null,
   "metadata": {},
   "outputs": [],
   "source": [
    "G_fred.edges[576734, 576735, 0]"
   ]
  },
  {
   "cell_type": "code",
   "execution_count": null,
   "metadata": {},
   "outputs": [],
   "source": [
    "# highlight all one-way edges in the Frederiksberg network from earlier\n",
    "ec = [\"r\" if data[\"oneway\"] else \"w\" for u, v, key, data in G_fred.edges(keys=True, data=True)]\n",
    "fig, ax = ox.plot_graph(G_fred, node_size=0, edge_color=ec, edge_linewidth=1.5, edge_alpha=0.7)"
   ]
  },
  {
   "cell_type": "markdown",
   "metadata": {},
   "source": [
    "Be aware that streets made up of two (minimally separated) lanes could have their lanes marked as \"oneway\", but effectively the street is twoway! For example, Roskildevej on the bottom left of the map:"
   ]
  },
  {
   "cell_type": "markdown",
   "metadata": {},
   "source": [
    "<img src=\"files/roskildevej.jpg\">"
   ]
  },
  {
   "cell_type": "markdown",
   "metadata": {},
   "source": [
    "## 2.5 Routing, speed imputation & travel times\n",
    "\n",
    "Calculating lots of shortest paths can be slow, but OSMnx has built-in shortest path solver parallelization and multiprocessing, see: https://github.com/gboeing/osmnx-examples/blob/main/notebooks/02-routing-speed-time.ipynb.\n",
    "\n",
    "igraph can be used as a much faster alternative for larger street networks: https://igraph.org/python/\n",
    "\n",
    "### Fast nearest node/edge search with OSMnx\n",
    "\n",
    "The nearest_nodes and nearest_edges functions take arrays of x and y (or lng/lat) coordinates and return the nearest node/edge to each."
   ]
  },
  {
   "cell_type": "code",
   "execution_count": null,
   "metadata": {},
   "outputs": [],
   "source": [
    "# randomly sample n points spatially-constrained to the network's geometry\n",
    "points = ox.utils_geo.sample_points(ox.get_undirected(G_fred), n=30)\n",
    "X = points.x.values\n",
    "Y = points.y.values"
   ]
  },
  {
   "cell_type": "markdown",
   "metadata": {},
   "source": [
    "**Find each nearest node to several points, and optionally return distance:**"
   ]
  },
  {
   "cell_type": "code",
   "execution_count": null,
   "metadata": {},
   "outputs": [],
   "source": [
    "nodes, dists = ox.nearest_nodes(G_fred, X, Y, return_dist=True)\n",
    "(nodes[:4],dists[:4])"
   ]
  },
  {
   "cell_type": "markdown",
   "metadata": {},
   "source": [
    "**Find the nearest node to a single point:**"
   ]
  },
  {
   "cell_type": "code",
   "execution_count": null,
   "metadata": {},
   "outputs": [],
   "source": [
    "node = ox.nearest_nodes(G_fred, X[0], Y[0])\n",
    "node"
   ]
  },
  {
   "cell_type": "markdown",
   "metadata": {},
   "source": [
    "**Find each nearest edge to several points, and optionally return distance:**"
   ]
  },
  {
   "cell_type": "code",
   "execution_count": null,
   "metadata": {},
   "outputs": [],
   "source": [
    "edges, dists = ox.nearest_edges(G_fred, X, Y, return_dist=True)\n",
    "(edges[:4],dists[:4])"
   ]
  },
  {
   "cell_type": "markdown",
   "metadata": {},
   "source": [
    "**Find the nearest edge to a single point:**"
   ]
  },
  {
   "cell_type": "code",
   "execution_count": null,
   "metadata": {},
   "outputs": [],
   "source": [
    "edge = ox.nearest_edges(G_fred, X[0], Y[0])\n",
    "edge"
   ]
  },
  {
   "cell_type": "markdown",
   "metadata": {},
   "source": [
    "### Basic routing by distance\n",
    "\n",
    "Pick two nodes. Then find the shortest path between origin and destination, using weight='length' to find the shortest path by minimizing distance traveled (otherwise it treats each edge as weight=1)."
   ]
  },
  {
   "cell_type": "code",
   "execution_count": null,
   "metadata": {},
   "outputs": [],
   "source": [
    "# find the shortest path (by distance) between these nodes then plot it\n",
    "orig = list(G_fred)[41]\n",
    "dest = list(G_fred)[220]\n",
    "route = ox.shortest_path(G_fred, orig, dest, weight=\"length\")\n",
    "fig, ax = ox.plot_graph_route(G_fred, route, route_color=\"y\", route_linewidth=6, node_size=0)"
   ]
  },
  {
   "cell_type": "markdown",
   "metadata": {},
   "source": [
    "Or get *k* shortest paths, weighted by some attribute:"
   ]
  },
  {
   "cell_type": "code",
   "execution_count": null,
   "metadata": {},
   "outputs": [],
   "source": [
    "routes = ox.k_shortest_paths(G_fred, orig, dest, k=20, weight=\"length\")\n",
    "fig, ax = ox.plot_graph_routes(G_fred, list(routes), route_colors=\"y\", route_linewidth=4, node_size=0)"
   ]
  },
  {
   "cell_type": "markdown",
   "metadata": {},
   "source": [
    "### Imputing travel speeds and times\n",
    "\n",
    "The `add_edge_speeds` function add edge speeds (km per hour) to graph as new `speed_kph` edge attributes. Imputes free-flow travel speeds for all edges based on mean `maxspeed` value of edges, per highway type. This mean-imputation can obviously be imprecise, and the caller can override it by passing in `hwy_speeds` and/or `fallback` arguments that correspond to local speed limit standards. See docstring for details."
   ]
  },
  {
   "cell_type": "code",
   "execution_count": null,
   "metadata": {},
   "outputs": [],
   "source": [
    "# impute speed on all edges missing data\n",
    "G = ox.add_edge_speeds(G_fred)\n",
    "\n",
    "# calculate travel time (seconds) for all edges\n",
    "G = ox.add_edge_travel_times(G)"
   ]
  },
  {
   "cell_type": "code",
   "execution_count": null,
   "metadata": {},
   "outputs": [],
   "source": [
    "# see mean speed/time values by road type\n",
    "edges = ox.graph_to_gdfs(G, nodes=False)\n",
    "edges[\"highway\"] = edges[\"highway\"].astype(str)\n",
    "edges.groupby(\"highway\")[[\"length\", \"speed_kph\", \"travel_time\"]].mean().round(1)"
   ]
  },
  {
   "cell_type": "code",
   "execution_count": null,
   "metadata": {},
   "outputs": [],
   "source": [
    "# same thing again, but this time pass in a few default speed values (km/hour)\n",
    "# to fill in edges with missing `maxspeed` from OSM\n",
    "hwy_speeds = {\"residential\": 30, \"secondary\": 50, \"tertiary\": 60}\n",
    "G = ox.add_edge_speeds(G, hwy_speeds)\n",
    "G = ox.add_edge_travel_times(G)"
   ]
  },
  {
   "cell_type": "code",
   "execution_count": null,
   "metadata": {},
   "outputs": [],
   "source": [
    "# calculate two routes by minimizing travel distance vs travel time\n",
    "orig = list(G)[1]\n",
    "dest = list(G)[120]\n",
    "route1 = ox.shortest_path(G, orig, dest, weight=\"length\")\n",
    "route2 = ox.shortest_path(G, orig, dest, weight=\"travel_time\")"
   ]
  },
  {
   "cell_type": "code",
   "execution_count": null,
   "metadata": {},
   "outputs": [],
   "source": [
    "# plot the routes\n",
    "fig, ax = ox.plot_graph_routes(\n",
    "    G, routes=[route1, route2], route_colors=[\"r\", \"y\"], route_linewidth=6, node_size=0\n",
    ")"
   ]
  },
  {
   "cell_type": "code",
   "execution_count": null,
   "metadata": {},
   "outputs": [],
   "source": [
    "# compare the two routes\n",
    "route1_length = int(sum(ox.utils_graph.get_route_edge_attributes(G, route1, \"length\")))\n",
    "route2_length = int(sum(ox.utils_graph.get_route_edge_attributes(G, route2, \"length\")))\n",
    "route1_time = int(sum(ox.utils_graph.get_route_edge_attributes(G, route1, \"travel_time\")))\n",
    "route2_time = int(sum(ox.utils_graph.get_route_edge_attributes(G, route2, \"travel_time\")))\n",
    "print(\"Route 1 is\", route1_length, \"meters and takes\", route1_time, \"seconds.\")\n",
    "print(\"Route 2 is\", route2_length, \"meters and takes\", route2_time, \"seconds.\")"
   ]
  },
  {
   "cell_type": "markdown",
   "metadata": {},
   "source": [
    "The yellow route minimizes travel time, and is thus longer but faster than the red route.\n",
    "\n",
    "For more examples of travel time, see the [isochrones example](https://github.com/gboeing/osmnx-examples/blob/main/notebooks/13-isolines-isochrones.ipynb).\n",
    "\n",
    "For more examples of routing, including using elevation as an impedance, see the [elevations example](https://github.com/gboeing/osmnx-examples/blob/main/notebooks/12-node-elevations-edge-grades.ipynb)."
   ]
  },
  {
   "cell_type": "markdown",
   "metadata": {},
   "source": [
    "## 2.6 Saving networks to disk\n",
    "\n",
    "For more examples of saving and loading networks to/from disk, see [this notebook](https://github.com/gboeing/osmnx-examples/blob/main/notebooks/05-save-load-networks.ipynb)."
   ]
  },
  {
   "cell_type": "code",
   "execution_count": null,
   "metadata": {},
   "outputs": [],
   "source": [
    "# save street network as GeoPackage \n",
    "ox.save_graph_geopackage(G_fred, filepath=\"network.gpkg\")"
   ]
  },
  {
   "cell_type": "code",
   "execution_count": null,
   "metadata": {},
   "outputs": [],
   "source": [
    "# save street network as GraphML file to work with later in OSMnx or networkx or gephi\n",
    "ox.save_graphml(G_fred, filepath=\"network.graphml\")"
   ]
  },
  {
   "cell_type": "markdown",
   "metadata": {},
   "source": [
    "## 2.7 Custom filters and other infrastructure types\n",
    "\n",
    "Use custom filters to fine-tune your network. OSMnx uses `network_type` presets to query for streets that allow walking, biking, driving, etc. You can override this by passing a `custom_filter` to specify specific OSM ways you want in your graph."
   ]
  },
  {
   "cell_type": "code",
   "execution_count": null,
   "metadata": {},
   "outputs": [],
   "source": [
    "place = {\"city\": \"Berkeley\", \"state\": \"California\"}\n",
    "\n",
    "# only get motorway ways\n",
    "cf = '[\"highway\"~\"motorway\"]'\n",
    "G = ox.graph_from_place(place, network_type=\"drive\", custom_filter=cf)\n",
    "print(len(G), \"motorway\")\n",
    "ox.plot_graph(G, node_color=\"r\");\n",
    "\n",
    "# only get primary ways\n",
    "cf = '[\"highway\"~\"primary\"]'\n",
    "G = ox.graph_from_place(place, network_type=\"drive\", custom_filter=cf)\n",
    "print(len(G), \"primary\")\n",
    "ox.plot_graph(G, node_color=\"r\");\n",
    "\n",
    "# use the pipe (|) as 'or' operator\n",
    "cf = '[\"highway\"~\"motorway|primary\"]'\n",
    "G = ox.graph_from_place(place, network_type=\"drive\", custom_filter=cf)\n",
    "print(len(G), \"motorway + primary\")\n",
    "ox.plot_graph(G, node_color=\"r\");"
   ]
  },
  {
   "cell_type": "code",
   "execution_count": null,
   "metadata": {},
   "outputs": [],
   "source": [
    "# network of the canals of amsterdam\n",
    "place = \"Amsterdam, Netherlands\"\n",
    "G = ox.graph_from_place(place, custom_filter='[\"waterway\"~\"canal\"]')\n",
    "ox.plot_graph(G, edge_color=\"c\", edge_linewidth=2, node_size=0);"
   ]
  },
  {
   "cell_type": "code",
   "execution_count": null,
   "metadata": {},
   "outputs": [],
   "source": [
    "# get NY subway rail network\n",
    "# note this is rail *infrastructure* and thus includes crossovers, sidings, spurs, yards, etc\n",
    "# for station-based rail network, you should download a station adjacency matrix elsewhere\n",
    "ox.settings.useful_tags_way += [\"railway\"]\n",
    "G = ox.graph_from_place(\n",
    "    \"New York, New York, USA\",\n",
    "    retain_all=False,\n",
    "    truncate_by_edge=True,\n",
    "    simplify=True,\n",
    "    custom_filter='[\"railway\"~\"subway\"]',\n",
    ")\n",
    "\n",
    "ox.plot_graph(G, node_size=0, edge_color=\"w\", edge_linewidth=0.2);"
   ]
  },
  {
   "cell_type": "markdown",
   "metadata": {},
   "source": [
    "# 3. pyrosm\n",
    "\n",
    "OSMnx is great for smaller areas, but not efficient enough if you want to get e.g. a street network for an entire country or region. There are many other, faster ways of accessing OSM data, one of them is [pyrosm](https://pyrosm.readthedocs.io/en/latest/basics.html#read-street-networks). The pyrosm library is still fairly new and might have some bugs, but it is much more efficient than OSMnx and also allows for more [custom filters](https://pyrosm.readthedocs.io/en/latest/custom_filter.html)."
   ]
  },
  {
   "cell_type": "code",
   "execution_count": null,
   "metadata": {},
   "outputs": [],
   "source": [
    "from pyrosm import OSM\n",
    "from pyrosm import get_data\n",
    "fp = get_data(\"copenhagen\")\n",
    "# Initialize the OSM parser object\n",
    "osm = OSM(fp)"
   ]
  },
  {
   "cell_type": "code",
   "execution_count": null,
   "metadata": {},
   "outputs": [],
   "source": [
    "# Read POIs such as amenities and shops\n",
    "# =====================================\n",
    "\n",
    "# By default pyrosm reads all elements having \"amenity\", \"shop\" or \"tourism\" tag\n",
    "# Here, let's read only \"amenity\" and \"shop\" by applying a custom filter that\n",
    "# overrides the default filtering mechanism\n",
    "custom_filter = {'amenity': True, \"shop\": True}\n",
    "pois = osm.get_pois(custom_filter=custom_filter)\n",
    "\n",
    "# Gather info about POI type (combines the tag info from \"amenity\" and \"shop\")\n",
    "pois[\"poi_type\"] = pois[\"amenity\"]\n",
    "pois[\"poi_type\"] = pois[\"poi_type\"].fillna(pois[\"shop\"])"
   ]
  },
  {
   "cell_type": "code",
   "execution_count": null,
   "metadata": {},
   "outputs": [],
   "source": [
    "# Plot\n",
    "ax = pois.plot(column='poi_type', markersize=3, figsize=(12,12), legend=False)\n",
    "ax.axis(\"off\");"
   ]
  },
  {
   "cell_type": "code",
   "execution_count": null,
   "metadata": {},
   "outputs": [],
   "source": [
    "# Test reading all transit related data (bus, trains, trams, metro etc.)\n",
    "# Exclude nodes (not keeping stops, etc.)\n",
    "routes = [\"bus\", \"ferry\", \"railway\", \"subway\", \"train\", \"tram\", \"trolleybus\"]\n",
    "rails = [\"tramway\", \"light_rail\", \"rail\", \"subway\", \"tram\"]\n",
    "bus = ['yes']\n",
    "transit = osm.get_data_by_custom_criteria(custom_filter={\n",
    "                                        'route': routes,\n",
    "                                        'railway': rails,\n",
    "                                        'bus': bus,\n",
    "                                        'public_transport': True},\n",
    "                                        # Keep data matching the criteria above\n",
    "                                        filter_type=\"keep\",\n",
    "                                        # Do not keep nodes (point data)    \n",
    "                                        keep_nodes=False, \n",
    "                                        keep_ways=True, \n",
    "                                        keep_relations=True)"
   ]
  },
  {
   "cell_type": "code",
   "execution_count": null,
   "metadata": {},
   "outputs": [],
   "source": [
    "ax = transit.plot()\n",
    "ax.axis(\"off\");"
   ]
  },
  {
   "cell_type": "markdown",
   "metadata": {},
   "source": [
    "**For a small performance comparison, compare the execution times of the two cells using respectively pyrosm and OSMnx:**"
   ]
  },
  {
   "cell_type": "code",
   "execution_count": null,
   "metadata": {},
   "outputs": [],
   "source": [
    "custom_filter = {'amenity': True, \"shop\": True}\n",
    "pois = osm.get_pois(custom_filter=custom_filter)"
   ]
  },
  {
   "cell_type": "code",
   "execution_count": null,
   "metadata": {},
   "outputs": [],
   "source": [
    "# using the bbox from the pois from pyrosm to replicate extent\n",
    "west, south, east, nort = pois.unary_union.bounds"
   ]
  },
  {
   "cell_type": "code",
   "execution_count": null,
   "metadata": {},
   "outputs": [],
   "source": [
    "tags = {\"shop\": True, \"amenity\": True}\n",
    "pois_osmnx = ox.geometries_from_bbox(north=north, south=south, west=west, east=east, tags=tags)"
   ]
  },
  {
   "cell_type": "markdown",
   "metadata": {},
   "source": [
    "When testing this notebook, the OSMnx cell took >3 minutes to run, while pyrosm was done in ~4 seconds. Much of the performance benefit from pyrosm comes from the fact that it relies on already-downloaded pbf files with the OSM data."
   ]
  },
  {
   "cell_type": "code",
   "execution_count": null,
   "metadata": {},
   "outputs": [],
   "source": []
  }
 ],
 "metadata": {
  "kernelspec": {
   "display_name": "Python 3 (ipykernel)",
   "language": "python",
   "name": "python3"
  },
  "language_info": {
   "codemirror_mode": {
    "name": "ipython",
    "version": 3
   },
   "file_extension": ".py",
   "mimetype": "text/x-python",
   "name": "python",
   "nbconvert_exporter": "python",
   "pygments_lexer": "ipython3",
   "version": "3.9.12"
  },
  "vscode": {
   "interpreter": {
    "hash": "09273b9d70777594a7b7f3f6c3e8e91be451f5d194695438b5ebcc24128e9f82"
   }
  }
 },
 "nbformat": 4,
 "nbformat_minor": 4
}
